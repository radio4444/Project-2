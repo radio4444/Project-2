{
 "cells": [
  {
   "cell_type": "markdown",
   "source": [
    "# CSCI 381/780 (Fall 2022) - Project 2\n",
    "\n",
    "**Due Date: Monday, November 14 by 4 PM**\n",
    "\n",
    "## Description\n",
    "In this project you will construct machine learning models on two different real-world datasets using unsupervised learning and regression.\n",
    "\n",
    "## Instructions\n",
    "1. In this project you will write code to construct machine learning models and write responses to questions concerning the performance of said models. Please complete all sections below, adding new *Code* or *Markdown* cells as appropriate to answer the questions.\n",
    "2. There are many Scikit-learn functions that leverage randomness to generate results. For these functions, a pseudorandom generator can be initialized using a seed value by passing the parameter `random_state=XXX`, where `XXX` is some number between 1 and 2^31-1. For each of these functions, **you will utilize your CUNY ID number** to initialize the function. Functions include:\n",
    "- `ShuffleSplit`\n",
    "- `KFold`\n",
    "- `KMeans`\n",
    "- `GridSearchCV`\n",
    "- `Lasso`\n",
    "- `MLPRegressor`\n",
    "3. You will **work independently** on the project. Please make use of the *Python Data Science Reference Materials* posted on Blackboard, or **come to office hours should you need further assistance**.\n",
    "4. You will submit a single Jupyter notebook containing all code and written responses via Blackboard by the due date listed above.\n",
    "\n",
    "## Grading\n",
    "\n",
    "### Running Code\n",
    "Your Jupyter notebook must be able to run from start to finish **without error**. Please turn any cell that contains scratch work or other non-executable items to *Raw*. **Notebooks that cannot run to completion will receive a grade of 0**.\n",
    "\n",
    "\n",
    "### Rubric\n",
    "\n",
    "|**Part**|1.1|1.2|2.1|2.2|2.3|2.4|2.5|2.6|**Total**|\n",
    "|:---:|:---:|:---:|:---:|:---:|:---:|:---:|:---:|:---:|:---:|\n",
    "|**%**|10|30|15|5|10|10|10|10|100|\n"
   ],
   "metadata": {
    "collapsed": false
   }
  },
  {
   "cell_type": "markdown",
   "source": [
    "# Part 1: Clustering"
   ],
   "metadata": {
    "collapsed": false
   }
  },
  {
   "cell_type": "markdown",
   "source": [
    "In this part of the project, you will be using data collected by the US Geological Survey and the US Forest Service. The data describes various cartographic and geologic features related to forest cover in US wilderness areas, with each sample representing a 30 x 30 meter cell.\n",
    "\n",
    "The **goal** will be to *identify clusters* that represent forest cover types, and using these clusters *extract relationships* between forest covers and the provided cartographic/geologic features."
   ],
   "metadata": {
    "collapsed": false
   }
  },
  {
   "cell_type": "code",
   "execution_count": 16,
   "outputs": [],
   "source": [
    "#library\n",
    "import pandas as pd\n",
    "import numpy as np\n",
    "import matplotlib.pyplot as plt\n",
    "%matplotlib inline\n"
   ],
   "metadata": {
    "collapsed": false
   }
  },
  {
   "cell_type": "code",
   "execution_count": 17,
   "outputs": [],
   "source": [
    "# load the dataset\n",
    "cover_column_names=[\"Elevation\",\"Aspect\",\"Slope\",\n",
    "              \"Horizontal_Distance_To_Hydrology\",\"Vertical_Distance_To_Hydrology\",\n",
    "              \"Horizontal_Distance_To_Roadways\",\"Hillshade_9am\",\"Hillshade_Noon\",\n",
    "              \"Hillshade_3pm\",\"Horizontal_Distance_To_Fire_Points\"]\n",
    "wilderness_cols =[\"Wilderness_\"+str(i) for i in range(4)]\n",
    "soil_col =[\"Soil_\"+str(i) for i in range(40)]\n",
    "cover_columns_names = cover_column_names + wilderness_cols + soil_col"
   ],
   "metadata": {
    "collapsed": false
   }
  },
  {
   "cell_type": "markdown",
   "source": [
    "## 1.1 Load Data\n",
    "Set the variable `COVER_FILE` to the **full path** to the forest cover dataset (**forest_cover_dataset.csv**) on your system. Load the file into a dataframe (you may initialize the column names using the header list `cover_column_names`), then:\n",
    "1. Determine the number and types of features.\n",
    "2. Perform a **ShuffleSplit** of the data into training/validation/test sets, 60%/20%/20%.\n",
    "3. **Center** the training/validation/test splits (fit on the training set, then transform the validation/test sets)."
   ],
   "metadata": {
    "collapsed": false
   }
  },
  {
   "cell_type": "code",
   "execution_count": 18,
   "outputs": [
    {
     "data": {
      "text/plain": "        Elevation  Aspect  Slope  Horizontal_Distance_To_Hydrology  \\\n0            2825     265     17                               319   \n1            2719     198     34                               134   \n2            3146     152     14                               212   \n3            2882      18     18                                95   \n4            2912     349     17                               283   \n...           ...     ...    ...                               ...   \n280246       2919     224     18                                85   \n280247       2151     114     29                                42   \n280248       3008     221     14                               418   \n280249       2923      58     12                               134   \n280250       3294     198      6                               484   \n\n        Vertical_Distance_To_Hydrology  Horizontal_Distance_To_Roadways  \\\n0                                  108                             2298   \n1                                   76                             2352   \n2                                   41                              940   \n3                                   -3                              485   \n4                                   57                             2729   \n...                                ...                              ...   \n280246                              24                              451   \n280247                              29                              499   \n280248                              99                             5346   \n280249                              12                             2213   \n280250                              80                              849   \n\n        Hillshade_9am  Hillshade_Noon  Hillshade_3pm  \\\n0                 174             245            209   \n1                 187             245            167   \n2                 237             239            130   \n3                 203             199            128   \n4                 187             210            160   \n...               ...             ...            ...   \n280246            193             254            193   \n280247            254             197             49   \n280248            202             253            185   \n280249            228             214            117   \n280250            218             245            163   \n\n        Horizontal_Distance_To_Fire_Points  ...  Soil_30  Soil_31  Soil_32  \\\n0                                      342  ...        0        0        1   \n1                                      693  ...        0        0        0   \n2                                     2007  ...        0        0        0   \n3                                      342  ...        1        0        0   \n4                                     2201  ...        0        0        0   \n...                                    ...  ...      ...      ...      ...   \n280246                                1436  ...        0        0        0   \n280247                                 731  ...        0        0        0   \n280248                                1300  ...        0        0        0   \n280249                                 424  ...        0        0        0   \n280250                                2704  ...        0        1        0   \n\n        Soil_33  Soil_34  Soil_35  Soil_36  Soil_37  Soil_38  Soil_39  \n0             0        0        0        0        0        0        0  \n1             0        0        0        0        0        0        0  \n2             0        0        0        0        0        0        0  \n3             0        0        0        0        0        0        0  \n4             0        0        0        0        0        0        0  \n...         ...      ...      ...      ...      ...      ...      ...  \n280246        0        0        0        0        0        0        0  \n280247        0        0        0        0        0        0        0  \n280248        0        0        0        0        0        0        0  \n280249        0        0        0        0        0        0        0  \n280250        0        0        0        0        0        0        0  \n\n[280251 rows x 54 columns]",
      "text/html": "<div>\n<style scoped>\n    .dataframe tbody tr th:only-of-type {\n        vertical-align: middle;\n    }\n\n    .dataframe tbody tr th {\n        vertical-align: top;\n    }\n\n    .dataframe thead th {\n        text-align: right;\n    }\n</style>\n<table border=\"1\" class=\"dataframe\">\n  <thead>\n    <tr style=\"text-align: right;\">\n      <th></th>\n      <th>Elevation</th>\n      <th>Aspect</th>\n      <th>Slope</th>\n      <th>Horizontal_Distance_To_Hydrology</th>\n      <th>Vertical_Distance_To_Hydrology</th>\n      <th>Horizontal_Distance_To_Roadways</th>\n      <th>Hillshade_9am</th>\n      <th>Hillshade_Noon</th>\n      <th>Hillshade_3pm</th>\n      <th>Horizontal_Distance_To_Fire_Points</th>\n      <th>...</th>\n      <th>Soil_30</th>\n      <th>Soil_31</th>\n      <th>Soil_32</th>\n      <th>Soil_33</th>\n      <th>Soil_34</th>\n      <th>Soil_35</th>\n      <th>Soil_36</th>\n      <th>Soil_37</th>\n      <th>Soil_38</th>\n      <th>Soil_39</th>\n    </tr>\n  </thead>\n  <tbody>\n    <tr>\n      <th>0</th>\n      <td>2825</td>\n      <td>265</td>\n      <td>17</td>\n      <td>319</td>\n      <td>108</td>\n      <td>2298</td>\n      <td>174</td>\n      <td>245</td>\n      <td>209</td>\n      <td>342</td>\n      <td>...</td>\n      <td>0</td>\n      <td>0</td>\n      <td>1</td>\n      <td>0</td>\n      <td>0</td>\n      <td>0</td>\n      <td>0</td>\n      <td>0</td>\n      <td>0</td>\n      <td>0</td>\n    </tr>\n    <tr>\n      <th>1</th>\n      <td>2719</td>\n      <td>198</td>\n      <td>34</td>\n      <td>134</td>\n      <td>76</td>\n      <td>2352</td>\n      <td>187</td>\n      <td>245</td>\n      <td>167</td>\n      <td>693</td>\n      <td>...</td>\n      <td>0</td>\n      <td>0</td>\n      <td>0</td>\n      <td>0</td>\n      <td>0</td>\n      <td>0</td>\n      <td>0</td>\n      <td>0</td>\n      <td>0</td>\n      <td>0</td>\n    </tr>\n    <tr>\n      <th>2</th>\n      <td>3146</td>\n      <td>152</td>\n      <td>14</td>\n      <td>212</td>\n      <td>41</td>\n      <td>940</td>\n      <td>237</td>\n      <td>239</td>\n      <td>130</td>\n      <td>2007</td>\n      <td>...</td>\n      <td>0</td>\n      <td>0</td>\n      <td>0</td>\n      <td>0</td>\n      <td>0</td>\n      <td>0</td>\n      <td>0</td>\n      <td>0</td>\n      <td>0</td>\n      <td>0</td>\n    </tr>\n    <tr>\n      <th>3</th>\n      <td>2882</td>\n      <td>18</td>\n      <td>18</td>\n      <td>95</td>\n      <td>-3</td>\n      <td>485</td>\n      <td>203</td>\n      <td>199</td>\n      <td>128</td>\n      <td>342</td>\n      <td>...</td>\n      <td>1</td>\n      <td>0</td>\n      <td>0</td>\n      <td>0</td>\n      <td>0</td>\n      <td>0</td>\n      <td>0</td>\n      <td>0</td>\n      <td>0</td>\n      <td>0</td>\n    </tr>\n    <tr>\n      <th>4</th>\n      <td>2912</td>\n      <td>349</td>\n      <td>17</td>\n      <td>283</td>\n      <td>57</td>\n      <td>2729</td>\n      <td>187</td>\n      <td>210</td>\n      <td>160</td>\n      <td>2201</td>\n      <td>...</td>\n      <td>0</td>\n      <td>0</td>\n      <td>0</td>\n      <td>0</td>\n      <td>0</td>\n      <td>0</td>\n      <td>0</td>\n      <td>0</td>\n      <td>0</td>\n      <td>0</td>\n    </tr>\n    <tr>\n      <th>...</th>\n      <td>...</td>\n      <td>...</td>\n      <td>...</td>\n      <td>...</td>\n      <td>...</td>\n      <td>...</td>\n      <td>...</td>\n      <td>...</td>\n      <td>...</td>\n      <td>...</td>\n      <td>...</td>\n      <td>...</td>\n      <td>...</td>\n      <td>...</td>\n      <td>...</td>\n      <td>...</td>\n      <td>...</td>\n      <td>...</td>\n      <td>...</td>\n      <td>...</td>\n      <td>...</td>\n    </tr>\n    <tr>\n      <th>280246</th>\n      <td>2919</td>\n      <td>224</td>\n      <td>18</td>\n      <td>85</td>\n      <td>24</td>\n      <td>451</td>\n      <td>193</td>\n      <td>254</td>\n      <td>193</td>\n      <td>1436</td>\n      <td>...</td>\n      <td>0</td>\n      <td>0</td>\n      <td>0</td>\n      <td>0</td>\n      <td>0</td>\n      <td>0</td>\n      <td>0</td>\n      <td>0</td>\n      <td>0</td>\n      <td>0</td>\n    </tr>\n    <tr>\n      <th>280247</th>\n      <td>2151</td>\n      <td>114</td>\n      <td>29</td>\n      <td>42</td>\n      <td>29</td>\n      <td>499</td>\n      <td>254</td>\n      <td>197</td>\n      <td>49</td>\n      <td>731</td>\n      <td>...</td>\n      <td>0</td>\n      <td>0</td>\n      <td>0</td>\n      <td>0</td>\n      <td>0</td>\n      <td>0</td>\n      <td>0</td>\n      <td>0</td>\n      <td>0</td>\n      <td>0</td>\n    </tr>\n    <tr>\n      <th>280248</th>\n      <td>3008</td>\n      <td>221</td>\n      <td>14</td>\n      <td>418</td>\n      <td>99</td>\n      <td>5346</td>\n      <td>202</td>\n      <td>253</td>\n      <td>185</td>\n      <td>1300</td>\n      <td>...</td>\n      <td>0</td>\n      <td>0</td>\n      <td>0</td>\n      <td>0</td>\n      <td>0</td>\n      <td>0</td>\n      <td>0</td>\n      <td>0</td>\n      <td>0</td>\n      <td>0</td>\n    </tr>\n    <tr>\n      <th>280249</th>\n      <td>2923</td>\n      <td>58</td>\n      <td>12</td>\n      <td>134</td>\n      <td>12</td>\n      <td>2213</td>\n      <td>228</td>\n      <td>214</td>\n      <td>117</td>\n      <td>424</td>\n      <td>...</td>\n      <td>0</td>\n      <td>0</td>\n      <td>0</td>\n      <td>0</td>\n      <td>0</td>\n      <td>0</td>\n      <td>0</td>\n      <td>0</td>\n      <td>0</td>\n      <td>0</td>\n    </tr>\n    <tr>\n      <th>280250</th>\n      <td>3294</td>\n      <td>198</td>\n      <td>6</td>\n      <td>484</td>\n      <td>80</td>\n      <td>849</td>\n      <td>218</td>\n      <td>245</td>\n      <td>163</td>\n      <td>2704</td>\n      <td>...</td>\n      <td>0</td>\n      <td>1</td>\n      <td>0</td>\n      <td>0</td>\n      <td>0</td>\n      <td>0</td>\n      <td>0</td>\n      <td>0</td>\n      <td>0</td>\n      <td>0</td>\n    </tr>\n  </tbody>\n</table>\n<p>280251 rows × 54 columns</p>\n</div>"
     },
     "execution_count": 18,
     "metadata": {},
     "output_type": "execute_result"
    }
   ],
   "source": [
    "# cover_file = f'C:/Users/tanzi/CS Lang IDE/PycharmProjects/Project-2/UTF-8_forest_cover_dataset.csv'\n",
    "#search later, how to auto complete full path. https://www.youtube.com/watch?v=3Spa10-mwsw\n",
    "\n",
    "cover_file = f'C:/Users/tanzi/CS Lang IDE/PycharmProjects/Jonathan/Project2/Project-2/UTF-8_forest_cover_dataset.csv'\n",
    "forest_data = pd.read_csv(cover_file, names=cover_columns_names)\n",
    "forest_data\n"
   ],
   "metadata": {
    "collapsed": false
   }
  },
  {
   "cell_type": "code",
   "execution_count": 19,
   "outputs": [
    {
     "name": "stdout",
     "output_type": "stream",
     "text": [
      "Number of features:  54\n"
     ]
    }
   ],
   "source": [
    "# Determine the number of features\n",
    "num_features = len(cover_columns_names)\n",
    "print('Number of features: ', num_features)"
   ],
   "metadata": {
    "collapsed": false
   }
  },
  {
   "cell_type": "code",
   "execution_count": 20,
   "outputs": [
    {
     "name": "stdout",
     "output_type": "stream",
     "text": [
      "Elevation : [2825 2719 3146 ... 3626 3541 3607]\n",
      "Aspect : [265 198 152  18 349 202 102  90   9 117 315  40 110   3 359 106 108 150\n",
      "  32 347 127  62 123 176  53 100 180 166 189 243 294  72 112  22  45 274\n",
      "  60 344  28 299  65  34 169  73  43  82 262 232  83  37 329  49 269  66\n",
      " 140 133  33  61 350  63  74 326 193 225 226 342 318 276 316 167 303  55\n",
      " 131  69 251  19 220  52 135  11 270  26  14 357  59  42  51 158 204 138\n",
      " 356  78  12 306 165 238 235 352 219 307 119 311 351  36  95  25 163 162\n",
      " 272  17 340 113  41 348   0 324  35  68  13  20 334 343 304  85  96 146\n",
      "  99 143 301  79  98 336 196  21 101 116 170 317 245  38  92 111 211 354\n",
      " 121   8 249 157 277  31   4 181 322 105 288 332 185 187 241 199 172 289\n",
      " 207 281 291 222 107  93 302 195  56 247 314 327   7 287 263 333 309 209\n",
      " 148 331   1 266   5  91  15 268  16 145 184 254 194  71 337 183 346 149\n",
      "  80 285  58  57  89 118 330  50 125 296 182  27 231 248  54  70  97 103\n",
      " 156 147  76  23  67 338 256 174 323 358 177 267 300 215  30 206 203  44\n",
      " 252 171 134  39 155 328   6  87 234 122 128  64 139 295 130 228  81 159\n",
      " 218 286 240 173 257  29 141 104  94 339 205 144 221 164 305 335 341 153\n",
      "   2  47 197 129 308 137 253 216 178 201  48 142 284 208 271 258 297 132\n",
      "  75  84 154 109 310 321 217 292  88 260 313 278  10 190 345  24 114 160\n",
      " 242 120 325  86 320 213 161 136 175 293 282 210 261 230 259 312 233 319\n",
      " 236 353 168 255 355 279 214 124 229 264 191 280 192 250 273  77 227 223\n",
      " 283 275 290 126 246 151 179 237 244 115 188 239 298  46 200 212 186 224\n",
      " 360]\n",
      "Slope : [17 34 14 18 11 12  6  4 15 21  9 25 19 10  8 16  1 20 24  5  2 13  3  7\n",
      " 33 23 38 28 29 22 31 30 35 26 36 27 32 37  0 39 40 48 42 43 45 46 41 47\n",
      " 49 44 57 50 59 53 52 51 61 65 54 64 56 55 60 66 63]\n",
      "Horizontal_Distance_To_Hydrology : [ 319  134  212   95  283  192  342  330  255  234   30    0  726   60\n",
      "  630  295  541   85  216  400   42  361  351  210  162  362  190  458\n",
      "  153   90   67  277  331  180  124  120  268  607  424  323  828  150\n",
      "  564  480  570  228  390  677  379  450  631  391  170  258  270  272\n",
      "  601  218  636  256  297  324  108  240  547  540  360  309  301  700\n",
      "  175  577  242  306  633  247  902  430  655  335  285  182  513  466\n",
      "  201  420  499  573  382  495  313  127  600  395  750  300  716  417\n",
      "  467  402  780  722  376  534  484  794  781  474  876  339  624  514\n",
      "  618  497  819 1170  408  511  979  509  671  595  433  591  800  768\n",
      "  366  721  552  900  350  642  582  693  371  875  446  849  870  531\n",
      "  799  955  459  616  524  384  443  702  757  560  684  510  404  469\n",
      "  537  576  641  503  742  930  732  551  765  787  741  553  457  437\n",
      "  816  658  664  984  969  418  589  604  959  942  690  569  488  960\n",
      "  571  612  957  920  663  454 1271  792  451  698  660  759  485  365\n",
      "  895  713  810  470  769  516  711  845  481  426  566  836  691  745\n",
      "  626 1092  518  872  720  830  782  532  659  866  598  674  421  824\n",
      "  649  708  646  666  543  834  771  743  558  638  859 1068  592 1034\n",
      "  774  755  886  492  807  865  841  735  785 1006  840  949  680  594\n",
      "  931  854 1315  706 1084  764  751  603  987  908  731  752  977  525\n",
      "  864  990  760  725  685  892  797 1154  703  661  805 1082  679  994\n",
      " 1131  579 1061 1259  730  912  778 1213  808  972  953  644  779  858\n",
      "  962  888  899  997  924  738 1142  911 1198  914 1116  933  696  976\n",
      " 1275 1024 1260 1087  850  811  812  999  837  947  789 1065  832  878\n",
      "  767 1080  891 1273  966  806  860  983 1121  815  890 1265  853  648\n",
      " 1129 1300 1310  932 1044 1050 1113  907 1182 1040  973  883  904  993\n",
      " 1073  874 1063 1020 1203 1048 1045 1055 1304 1074 1077 1071 1205 1008\n",
      "  871 1230 1114 1302  939  847  964 1120 1018 1124  937  882 1103 1158\n",
      "  793  842  916 1329 1180 1026  918 1100  934 1041 1282 1099 1025  927\n",
      " 1012 1277  938 1245 1115 1032 1128 1022 1194 1027 1053  981 1110 1101\n",
      " 1015 1150 1224 1060 1062 1106 1072 1237 1054 1047 1233 1172  825 1052\n",
      " 1195 1201 1221 1243 1216  926 1167 1200  967 1019  940 1001  992 1138\n",
      " 1342 1107 1148 1003 1261 1036 1031 1159  968 1318 1383 1140 1126 1208\n",
      " 1288 1127 1253 1235 1231 1222 1226 1146 1215 1165 1199 1206 1240 1091\n",
      " 1332 1266 1316 1075 1155 1104 1250 1269 1090 1218 1348 1123 1234 1328\n",
      " 1033 1057 1112 1130 1173 1187 1248 1283 1358 1276 1149 1064 1136 1184\n",
      " 1254 1183 1177 1290 1209 1189 1361 1179 1168 1307 1371 1211 1292 1134\n",
      " 1236 1262 1319 1289 1239 1095 1343 1397 1190 1295 1249 1354 1176 1324\n",
      " 1320 1390 1188 1368 1301 1191 1144 1207]\n",
      "Vertical_Distance_To_Hydrology : [ 108   76   41   -3   57   36   47   46   26  -12   72    5    0   78\n",
      "   22   45   62    7   18   34   -8   13    1   40    4  171   19   11\n",
      "   -2   49  -22   70   58   -9   63  -21   32   44   51   53    2   15\n",
      "   16   17  150   10    9  -33  163    6  103   23  135   25  180   82\n",
      "    8   33  109   35   24   12   28  129  -14   86   92   59    3   97\n",
      " -145   14   30  -37   54   66   31   68   -1   42  213   84   77  128\n",
      "   73   -5  134   56   69  131   48   -4  115   21  206   39  -11   90\n",
      "  -51  177  -23   52  -18  123  104   88  101  116  236   38   50  -27\n",
      "  193  105   96  148   91   37   -7   89  111   83   79   67   43  158\n",
      "  -47  200  140  124   61   65  190   85   55  100   75  102  154  122\n",
      "  281  118  310  165  175   81   27   95  120  166   29  205  138  300\n",
      "   20  -13  146  -10  -16   94  132  239  -44  202  -31  -19  182  -30\n",
      "   60  143  302 -139  139   80  110   74  194  191   98  -43   64   71\n",
      "  174  151  -17  121  183  136  -38  117  203  289  -60   -6  107  -46\n",
      "  160  262  -56  181  114  -62  162  212  155  -65   99  125  -88  215\n",
      "  296  -25  238  172   93  219  240  -35  303  127  168  113  228  144\n",
      "  290  112  119  218  164  188  185  133  224  159  210  -48  225  227\n",
      "  -32  -15  141  229  147  -34  263  -39  189  126  161  170  169  197\n",
      "  -80   87  570  209  153  142  187  -45  -50  186  -58  -57  157  195\n",
      "  207  223  -24  -41  288  192  -59  -93  279  156  244  -42  199  -49\n",
      "  221  217  149  137 -106 -124  305  415  145  -29  -28  -55  -26  252\n",
      "  -78  -75  173  258  246  370  167  368  211  286  275  247  -36  249\n",
      " -111  214  179  233  311  130  198  276  106  253  178  313 -101  152\n",
      "  266  -68 -114 -130  -86  -74  -20  204  176  235 -119  -77 -104  230\n",
      "  314  237  -72  -61  222  270  -52  363  232  216  331  366  255  264\n",
      "  201  184  -90 -113  -82  401  196  250 -116  341  364  394  265  304\n",
      "  297  241  -66  278  361  283  242  231 -125  -76  -64  257  259  343\n",
      "  -97  220  251  -40  -85  -54  379  285  271  269  373 -121  306  329\n",
      "  337  322  -73  307  330  408  -53  -71  291  -83  -99 -105  292  245\n",
      " -110  234  414  325  226  353  268  -98  316  398 -102  318 -123  248\n",
      "  443  345 -107  254  -67  375  267  277  -96  256  -81  261  295  260\n",
      "  334  274  550  -69  -94  333  367  354  208  243  319  282 -133  346\n",
      " -149  -70  -91 -108  402  336  -95 -103  356  358  273  -89  453 -100\n",
      "  -63 -112 -118  312  391 -166  -92  317 -109  324  293  389 -143  419\n",
      "  294  -79  338  272  327  284  359  308 -140  287  309  543  -84 -137\n",
      " -155  377  381 -115  355  493  386  371 -134  348 -159  421 -117  347\n",
      "  554  362  395  360  466 -132  365  523  335 -129  332  369 -128  323\n",
      "  428  597 -131  280  -87  376 -136  301  400  512  328  351  528  446\n",
      "  383  350  298 -122  357  315  385  326 -135  568  478  349  320  299\n",
      "  378  393  407  340  344  396  342  517 -126  434  557  390 -120  321\n",
      "  339  491 -152 -150  485  537  374  405  427 -146  461  496  413  479\n",
      "  372  585  539  382  454  392  420  397  403  352  526  506 -153  380\n",
      "  592  561  565  589 -127 -141  571 -144  411  549  455  431  524  527\n",
      "  595  514  492  410  387  544  388  409  547  432  590  573  463  536\n",
      " -157 -151  598 -138  507  584  540  552  586  384 -173  578  406  404\n",
      "  417  462 -156  508 -163  582  504  399]\n",
      "Horizontal_Distance_To_Roadways : [2298 2352  940 ... 6805 6788 6409]\n",
      "Hillshade_9am : [174 187 237 203 215 240 230 207 227 178 216 248 214 206 252 245 239 212\n",
      " 201 247 232 224 226 238 223 221 219 246 211 194 197 231 202 234 241 220\n",
      " 165 222 160 218 208 225 184 229 199 190 145 166 243 200 210 249 213 217\n",
      " 204 196 180 185 244 250 170 135 183 209 143 114 179 191 251 147 176 181\n",
      " 228 235 126 182 242 124 195 162 205 172 146 253 132 167 198 188 125 161\n",
      " 236 107 171 163 155 169 141 159 177 233 175 192 149 189 153 144 137 164\n",
      " 186 168 193 138 127 254  94 173 157 129 151 120  90 156 150 140 158 134\n",
      " 148 102 112 154 142  93 128 139  87 130 136 152 122 117 121 131  88  75\n",
      " 104 116  70 115  99 133 109  92 106 103 111 123 100 108  96 119  85 110\n",
      " 105  54  73 113  52  76  89 118   0  67  95  97  74  79  80  98  91  78\n",
      "  71  64 101  84  83  56  65  82  81  86  77  46  66  68  36  59  72  69\n",
      "  61  60  57  55  62]\n",
      "Hillshade_Noon : [245 239 199 210 250 224 230 217 236 226 188 216 232 223 201 221 237 196\n",
      " 225 204 243 218 244 251 222 191 190 246 219 227 180 233 202 207 229 228\n",
      " 242 247 206 187 205 252 253 220 231 212 248 208 213 240 200 235 194 150\n",
      " 167 249 182 161 176 203 168 234 211 215 173 195 238 175 214 209 192 197\n",
      " 254 174 198 241 146 170 160 145 184 159 189 172 193 164 163 186 152 179\n",
      " 185 171 162 144 183 178 181 177 169 147 157 141 148 153 158 136 154 156\n",
      " 166 155 129 126 108 135 138 139 149 125 104 165 134 131 133 137  96 132\n",
      " 122 151 130 112 143  98   0 142 117 140 120 107  63 124 121 123 119 116\n",
      "  92  76 111  85 128  99  87 101 114  42 106  91 113 100 115  71 127 103\n",
      "  30 109  74 118  80 105 102 110  97  81  78  93  88  53  64  95  40  90]\n",
      "Hillshade_3pm : [209 167 130 128 160 168 111 134 146 143 188  98  89 155  62 100 122 113\n",
      " 162  99 154 126 116 156 139 159 169 197 144 109  95 150 163 103 195 141\n",
      " 110  90 184 108 133 182 218 121  91 153 104 140 137 136 124  64 112 164\n",
      " 185 189 179 187 200 201 127  97 114 107 174  87 165 148  65 172  94  84\n",
      " 175  59  18 186  69  88 208 157  58 138 241 145 123  78 152 181  92 105\n",
      " 147 149 177 166 191 101 132 125 102 192 151 221  83 142 194 212 135 131\n",
      " 203 225 115 158  17 196  72 180  81 170 206 171 202  80 204  67 224  53\n",
      " 173  42 217 207 119 161 220 183 120 129 117 211  57 236  76 198  74 118\n",
      " 205  46 210  79  93  56  71  43  77 229  85 199 106 176 178  31  48 213\n",
      "  96  21 222   2  41 242  73 223  47  40 214  55 193   9  37  14  75  63\n",
      "  52  34  27  60 190 232 227 244  45 216  86  61  51 237 249  82 219 228\n",
      " 233  16 226  32 240 234  38  68 231  70  44  12  30  22  50  29 239  28\n",
      " 215  66  36   0  20  23 235   4  49 230  13 248  54 246  11 243   5  39\n",
      " 238  25  33   6  26  24  35 247 245   8  15 254  19   1 251 252  10 250\n",
      "   7   3 253]\n",
      "Horizontal_Distance_To_Fire_Points : [ 342  693 2007 ... 6760 6203 4880]\n",
      "Wilderness_0 : [0 1]\n",
      "Wilderness_1 : [0 1]\n",
      "Wilderness_2 : [1 0]\n",
      "Wilderness_3 : [0 1]\n",
      "Soil_0 : [0 1]\n",
      "Soil_1 : [0 1]\n",
      "Soil_2 : [0 1]\n",
      "Soil_3 : [0 1]\n",
      "Soil_4 : [0 1]\n",
      "Soil_5 : [0 1]\n",
      "Soil_6 : [0 1]\n",
      "Soil_7 : [0 1]\n",
      "Soil_8 : [0 1]\n",
      "Soil_9 : [0 1]\n",
      "Soil_10 : [0 1]\n",
      "Soil_11 : [0 1]\n",
      "Soil_12 : [0 1]\n",
      "Soil_13 : [0 1]\n",
      "Soil_14 : [0]\n",
      "Soil_15 : [0 1]\n",
      "Soil_16 : [0 1]\n",
      "Soil_17 : [0 1]\n",
      "Soil_18 : [0 1]\n",
      "Soil_19 : [0 1]\n",
      "Soil_20 : [0 1]\n",
      "Soil_21 : [0 1]\n",
      "Soil_22 : [0 1]\n",
      "Soil_23 : [0 1]\n",
      "Soil_24 : [0 1]\n",
      "Soil_25 : [0 1]\n",
      "Soil_26 : [0 1]\n",
      "Soil_27 : [0 1]\n",
      "Soil_28 : [0 1]\n",
      "Soil_29 : [0 1]\n",
      "Soil_30 : [0 1]\n",
      "Soil_31 : [0 1]\n",
      "Soil_32 : [1 0]\n",
      "Soil_33 : [0 1]\n",
      "Soil_34 : [0 1]\n",
      "Soil_35 : [0 1]\n",
      "Soil_36 : [0]\n",
      "Soil_37 : [0 1]\n",
      "Soil_38 : [0 1]\n",
      "Soil_39 : [0 1]\n"
     ]
    }
   ],
   "source": [
    "#change the variable name\n",
    "\n",
    "#Determine nature of object types\n",
    "crime_cat_columns=dict()\n",
    "crime_cat_columns_idx=dict()\n",
    "crime_num_columns_idx=dict()\n",
    "for col in cover_columns_names:\n",
    "    if forest_data[col].dtype == 'int64':\n",
    "        crime_cat_columns[col]=forest_data[col].unique()\n",
    "        crime_cat_columns_idx[col]=forest_data.columns.get_loc(col)\n",
    "        print(col,\":\", crime_cat_columns[col])\n",
    "    elif np.issubdtype(forest_data.at[0,col], np.number):\n",
    "        crime_num_columns_idx[col]=forest_data.columns.get_loc(col)"
   ],
   "metadata": {
    "collapsed": false
   }
  },
  {
   "cell_type": "code",
   "execution_count": 21,
   "outputs": [],
   "source": [
    "# Perform a **ShuffleSplit** of the data into training/validation/test sets, 60%/20%/20%.\n",
    "forest_data_list = np.array(forest_data)\n",
    "from sklearn.model_selection import ShuffleSplit\n",
    "split_test = ShuffleSplit(n_splits=1,test_size=0.2, random_state=23508893)\n",
    "for train_index, test_index in split_test.split(forest_data_list):\n",
    "    forest_train_proj_full = forest_data_list[train_index,:]\n",
    "    forest_test_proj = forest_data_list[test_index,:]\n",
    "\n",
    "\n",
    "split_validation = ShuffleSplit(n_splits=1,test_size=0.25, random_state=23508893)\n",
    "for train_index, validation_index in split_validation.split(forest_train_proj_full):\n",
    "    forest_train_proj = forest_train_proj_full[train_index,:]\n",
    "    forest_validation_proj = forest_train_proj_full[validation_index,:]\n"
   ],
   "metadata": {
    "collapsed": false
   }
  },
  {
   "cell_type": "code",
   "execution_count": null,
   "outputs": [],
   "source": [
    "# #Maybe comment this out?\n",
    "# print(\"Dataset\\t\\tPercent\")\n",
    "# print(\"Training\\t\" + str(np.sum(forest_train_proj) / len(forest_train_proj)))\n",
    "# print(\"Validation\\t\" + str(np.sum(forest_validation_proj) / len(forest_validation_proj)))\n",
    "# print(\"Test\\t\\t\" + str(np.sum(forest_test_proj) / len(forest_test_proj)))"
   ],
   "metadata": {
    "collapsed": false
   }
  },
  {
   "cell_type": "markdown",
   "source": [
    "1. How would want us to solve 1.1.3 [center the training]. Should I use customs transformer? If so, during the next step, should I use data_centered_train or forest_train_proj?\n",
    "2. forest_train_proj = dataset (X) | data_center_train = first center randomly\n",
    "3.\n"
   ],
   "metadata": {
    "collapsed": false
   }
  },
  {
   "cell_type": "code",
   "execution_count": 22,
   "outputs": [],
   "source": [
    "# Customs transformers\n",
    "from sklearn.preprocessing import FunctionTransformer\n",
    "center_function = lambda x: x-x.mean()\n",
    "transformer = FunctionTransformer(center_function, validate=True)"
   ],
   "metadata": {
    "collapsed": false
   }
  },
  {
   "cell_type": "code",
   "execution_count": 23,
   "outputs": [
    {
     "data": {
      "text/plain": "array([[2868.87819823,  160.87819823, -151.12180177, ..., -154.12180177,\n        -154.12180177, -154.12180177],\n       [2777.87819823,   48.87819823, -140.12180177, ..., -154.12180177,\n        -154.12180177, -154.12180177],\n       [2378.87819823,   60.87819823, -125.12180177, ..., -154.12180177,\n        -154.12180177, -154.12180177],\n       ...,\n       [2783.87819823,  125.87819823, -130.12180177, ..., -154.12180177,\n        -154.12180177, -154.12180177],\n       [2359.87819823,  152.87819823, -132.12180177, ..., -154.12180177,\n        -154.12180177, -154.12180177],\n       [3028.87819823,   38.87819823, -146.12180177, ..., -154.12180177,\n        -154.12180177, -154.12180177]])"
     },
     "execution_count": 23,
     "metadata": {},
     "output_type": "execute_result"
    }
   ],
   "source": [
    "# **Center** the training/validation/test splits (fit on the training set, then transform the validation/test sets).\n",
    "# use this data for clustering. Ask the professor if I should use data_centered or not_center\n",
    "# Copy the standard scaler from part 1\n",
    "data_centered_train = transformer.fit_transform(forest_train_proj)\n",
    "data_centered_valid = transformer.transform(forest_validation_proj)\n",
    "data_centered_test = transformer.transform(forest_test_proj)\n",
    "\n",
    "data_centered_full_train = transformer.transform(forest_train_proj_full)\n",
    "\n",
    "data_centered_test"
   ],
   "metadata": {
    "collapsed": false
   }
  },
  {
   "cell_type": "code",
   "execution_count": 24,
   "outputs": [],
   "source": [
    "# # sns.pairplot(forest_train_proj[])\n",
    "# plt.plot(forest_train_proj)\n",
    "# plt.show()"
   ],
   "metadata": {
    "collapsed": false
   }
  },
  {
   "cell_type": "markdown",
   "source": [
    "## 1.2 $k$-Means Clustering"
   ],
   "metadata": {
    "collapsed": false
   }
  },
  {
   "cell_type": "markdown",
   "source": [
    "1. Cluster the *training* dataset using ```KMeans``` from Scikit-learn using the values for $k$ below. You can utilize the default implementation in Scikit-learn, which is $k$-means$++$. Construct models for each value of $k$ specified in the ``k_values`` array below.\n",
    "2. Apply the trained models to the validation dataset.\n",
    "3. Compute the **mean** inertia for each value of $k$ on the training and validation datasets. For the training data, you can extract the *total* (**unnormalized**) inertia from the trained models via their respective ```inertia_```. For the validation models, you can utilize the function ```total_inertia``` provided below.\n",
    "4. Plot the mean inertias for all values of $k$ and for both the training and validation sets on a single plot. Based on the elbow method, which value of $k$ should be chosen so that the model will generalize to new data?\n",
    "5. The *Silhouette Coefficient* is another cluster performance metric that combines intra-cluster distance with inter-cluster distances from clusters in close proximity to each other. Utilize Scikit-learn's ```silhouette_score``` function [(documentation)](https://scikit-learn.org/stable/modules/generated/sklearn.metrics.silhouette_score.html#sklearn.metrics.silhouette_score) to compute the silhouette coefficient for all values of $k$ on the *validation* set. Plot these values and determine via the elbow method which value of $k$ should be chosen. How does this value compare to the one chosen using mean inertia?\n",
    "6. Using whichever value of $k$ you think is the best based on steps 4) and 5), create a plot for each feature that contains [boxplots](https://matplotlib.org/stable/gallery/statistics/boxplot_demo.html#sphx-glr-gallery-statistics-boxplot-demo-py) of that feature for each cluster. Based upon these plots, determine which features you think are meaningful in discriminating between the clusters, as well as any other trends you observe."
   ],
   "metadata": {
    "collapsed": false
   }
  },
  {
   "cell_type": "markdown",
   "source": [
    "### Please Read!\n",
    "You may benefit from parallelizing the creation of the $k$-means models by using the Python package ```joblib```. I've included a code template below that you can customize. For additional details, please refer to [joblib's documentation](https://joblib.readthedocs.io/en/latest/parallel.html)."
   ],
   "metadata": {
    "collapsed": false
   }
  },
  {
   "cell_type": "markdown",
   "source": [
    "## Cluster the *training* dataset using ```KMeans```. Construct models for each value of $k$ specified in the ``k_values`` array\n",
    "### Comment:\n",
    "1. Should I use fit or fit_transform?\n",
    "2. fit_predict() vs predict() <- I think I got my answer| labels vs predict; what is labels?\n",
    "3. whats the difference between writing out the parameter for iniit: 'kmean++' or not?\n",
    "The reason why I ask, because I don't see any data difference with or without, even after adding n_init=k, where is interger of the list from k_value"
   ],
   "metadata": {
    "collapsed": false
   }
  },
  {
   "cell_type": "code",
   "execution_count": 25,
   "outputs": [],
   "source": [
    "k_values=list(range(2,11))+[15,20]\n",
    "\n",
    "#n-clusters = int [not list]; figure out a way to get int.\n",
    "from sklearn.cluster import KMeans\n",
    "#fit: kmeans return type: kmeans\n",
    "\n",
    "for k in k_values:\n",
    "    kmeans = KMeans(n_clusters=k,random_state=23508893).fit(forest_train_proj) # fit vs fit_transform?\n"
   ],
   "metadata": {
    "collapsed": false
   }
  },
  {
   "cell_type": "code",
   "execution_count": 26,
   "outputs": [
    {
     "data": {
      "text/plain": "array([[ 3.13485042e+03,  1.80206424e+02,  1.11966619e+01, ...,\n         7.46339159e-02,  1.05495198e-02,  5.89805982e-17],\n       [ 2.90396929e+03,  1.56102918e+02,  1.49163384e+01, ...,\n         1.57549234e-02,  1.18161926e-02,  7.51276441e-03],\n       [ 2.95963745e+03,  1.74061255e+02,  1.05181773e+01, ...,\n         1.04083409e-17, -5.37764278e-17,  1.73472348e-17],\n       ...,\n       [ 2.98986947e+03,  1.48964153e+02,  1.37919242e+01, ...,\n         1.78821590e-02,  4.36753193e-03,  3.90605686e-02],\n       [ 2.95087006e+03,  1.81988272e+02,  1.42078879e+01, ...,\n         1.66061235e-03,  1.97197717e-03,  9.34094447e-04],\n       [ 3.05361060e+03,  1.14238266e+02,  1.09398159e+01, ...,\n         2.62744217e-02,  3.32360207e-02,  1.54951718e-02]])"
     },
     "execution_count": 26,
     "metadata": {},
     "output_type": "execute_result"
    }
   ],
   "source": [
    "kmeans.cluster_centers_"
   ],
   "metadata": {
    "collapsed": false
   }
  },
  {
   "cell_type": "markdown",
   "source": [
    "## Apply the trained models to the validation data"
   ],
   "metadata": {
    "collapsed": false
   }
  },
  {
   "cell_type": "code",
   "execution_count": null,
   "outputs": [],
   "source": [
    "# kmeans.fit_predict(forest_validation_proj)\n",
    "# valid_predict = kmeans.predict(forest_validation_proj, train_predict)\n",
    "valid_predict = kmeans.predict(forest_validation_proj)\n",
    "valid_predict"
   ],
   "metadata": {
    "collapsed": false
   }
  },
  {
   "cell_type": "code",
   "execution_count": null,
   "outputs": [],
   "source": [
    "kmeans.cluster_centers_"
   ],
   "metadata": {
    "collapsed": false
   }
  },
  {
   "cell_type": "markdown",
   "source": [
    "### Comment\n",
    "1. Is the func supposed to be for loop of the kvalues? and the data is train_model?\n",
    "2. Create a function for for-loop, where it takes list, data"
   ],
   "metadata": {
    "collapsed": false
   }
  },
  {
   "cell_type": "code",
   "execution_count": null,
   "id": "dd723091",
   "metadata": {},
   "outputs": [],
   "source": [
    "# from joblib import Parallel, delayed, parallel_backend\n",
    "#\n",
    "# with parallel_backend(\"loky\", inner_max_num_threads=2):\n",
    "#     results = Parallel(n_jobs=4)(delayed(func)(x, y) for x, y in data)\n",
    "#     # which data?\n",
    "#     # || x = forest_train_proj and y = data_centered_train?\n",
    "#     # || x = k-mean and y = k-mean ++?\n",
    "#     # || x = forest_train_proj and y = k-means\n",
    "#     # func = center_function? or [cluster_centers_ or labels_] from k-means?"
   ]
  },
  {
   "cell_type": "code",
   "execution_count": null,
   "id": "38cf5490",
   "metadata": {},
   "outputs": [],
   "source": [
    "def total_inertia(dataset,centers,labels,distance=None,mean=True):\n",
    "    # dataset= forest_validation_proj | centers = kmeans.cluster_centers_ [valid_predict] | label = valid_predict |mean=false\n",
    "    \"\"\"\n",
    "    Computes the total inertia (the intracluster variance) given a dataset and the cluster centers.\n",
    "    \n",
    "    Parameters\n",
    "    ----------\n",
    "    dataset : numpy.ndarray\n",
    "        The dataset to evaluate.\n",
    "    center : numpy.ndarray or list\n",
    "        The list of cluster centers.\n",
    "    distance : function\n",
    "        A function that computes the pairwise distance between two samples.\n",
    "        Default: Euclidean (l_2) distance\n",
    "    mean : bool\n",
    "        If True, returns the mean inertia.\n",
    "        Default: True\n",
    "        \n",
    "    Returns\n",
    "    -------\n",
    "    total_inertia : float\n",
    "       The mean inertia (if mean==True) or total inertia (if mean==False).\n",
    "\"\"\"\n",
    "    num_samples,_ = dataset.shape\n",
    "    total_inertia=0\n",
    "    if distance is None:\n",
    "        distance=lambda x,y: np.linalg.norm(x-y)**2\n",
    "    for i,sample in enumerate(dataset):\n",
    "        center = centers[labels[i]]\n",
    "        total_inertia += distance(sample,center)\n",
    "    \n",
    "    if mean:\n",
    "        return total_inertia/num_samples\n",
    "    else:\n",
    "        return total_inertia"
   ]
  },
  {
   "cell_type": "markdown",
   "source": [
    "## Compute the **mean** inertia for each value of k on the training and validation datasets.\n",
    "1. For the training data, you can extract the *total* (**unnormalized**) inertia from the trained models via their respective ```inertia_```.\n",
    "2. For the validation models, you can utilize the function ```total_inertia``` provided below.\n",
    "\n",
    "### Comment:\n",
    "1. Given ```total-inertia``` has way to computer mean intertia, if we set mean to true. If that's the case, is that what you want us to use for training data as well?\n",
    "2. what do you mean by ***via their respective*** ```inertia_``` ?\n",
    "3. Mean inertia for train model, work, I think?\n",
    "4. But for the output for valid, the mean sse is coming the same\n"
   ],
   "metadata": {
    "collapsed": false
   }
  },
  {
   "cell_type": "code",
   "execution_count": null,
   "outputs": [],
   "source": [
    "kmeans.labels_"
   ],
   "metadata": {
    "collapsed": false
   }
  },
  {
   "cell_type": "code",
   "execution_count": null,
   "outputs": [],
   "source": [
    "# dataset= forest_train_proj | centers = kmeans.cluster_centers_ | labels = kmeans.labels | mean=true\n",
    "# total_inertia(forest_train_proj,kmeans.cluster_centers_,kmeans.labels_,mean=True)\n",
    "\n",
    "mean_train = []\n",
    "for k in k_values:\n",
    "    km= KMeans(n_clusters=k, random_state=23508893).fit(forest_train_proj)\n",
    "    u = km.inertia_\n",
    "    mean_train.append(u)\n",
    "    print(\"The inertia for: \", k, \"Clusters is:\", u)"
   ],
   "metadata": {
    "collapsed": false
   }
  },
  {
   "cell_type": "code",
   "execution_count": null,
   "outputs": [],
   "source": [
    "#combine mean_valid and mean_train cell\n",
    "# dataset= forest_validation_proj | centers = kmeans.cluster_centers_ | mean=false\n",
    "# total_inertia(dataset,centers,labels,distance=None,mean=True)\n",
    "# mean_valid = []\n",
    "# for k in k_values:\n",
    "#     forest_valid_inertia =total_inertia(forest_validation_proj,kmeans.cluster_centers_, kmeans.labels_, mean=True, distance=None)\n",
    "#     km= KMeans(n_clusters=k).fit(forest_validation_proj)\n",
    "#     mean_valid.append(forest_valid_inertia)\n",
    "\n",
    "total_inertia(forest_validation_proj,kmeans.cluster_centers_, kmeans.labels_, mean=False, distance=None)"
   ],
   "metadata": {
    "collapsed": false
   }
  },
  {
   "cell_type": "code",
   "execution_count": null,
   "outputs": [],
   "source": [
    "plt.xlabel('K')\n",
    "plt.ylabel('Sum of squared error')\n",
    "plt.plot(k_values, mean_train, color = 'black', label ='mean_train')\n",
    "# plt.plot(k_values, forest_valid_inertia, color = 'blue', label ='mean_valid')\n",
    "plt.legend(['mean_train', 'mean_valid'])"
   ],
   "metadata": {
    "collapsed": false
   }
  },
  {
   "cell_type": "markdown",
   "source": [
    "## Plot the mean inertias for all values of $k$ and for both the training and validation sets on a single plot.\n",
    "1. Based on the elbow method, which value of $k$ should be chosen so that the model will generalize to new data?"
   ],
   "metadata": {
    "collapsed": false
   }
  },
  {
   "cell_type": "markdown",
   "id": "bb119707",
   "metadata": {},
   "source": [
    "# Part 2: Regression"
   ]
  },
  {
   "cell_type": "markdown",
   "id": "41364bb3",
   "metadata": {},
   "source": [
    "In this part of the project, you will be utilizing a US database of crime and law enforcement statistics broken down by US Census communities. The **goal** will be to create *regression models* that predict *per capita violent crimes* (the response variable `ViolentCrimesPerPop`) for a given community based on these inputs. "
   ]
  },
  {
   "cell_type": "code",
   "execution_count": 3,
   "id": "5d0dad23",
   "metadata": {},
   "outputs": [],
   "source": [
    "crime_column_names= ['state', 'county', 'community', 'communityname', 'fold', 'population', 'householdsize',\n",
    "                 'racepctblack', 'racePctWhite', 'racePctAsian', 'racePctHisp', 'agePct12t21', 'agePct12t29',\n",
    "                 'agePct16t24', 'agePct65up', 'numbUrban', 'pctUrban', 'medIncome', 'pctWWage', 'pctWFarmSelf',\n",
    "                 'pctWInvInc', 'pctWSocSec', 'pctWPubAsst', 'pctWRetire', 'medFamInc', 'perCapInc', 'whitePerCap',\n",
    "                 'blackPerCap', 'indianPerCap', 'AsianPerCap', 'OtherPerCap', 'HispPerCap', 'NumUnderPov', 'PctPopUnderPov',\n",
    "                 'PctLess9thGrade', 'PctNotHSGrad', 'PctBSorMore', 'PctUnemployed', 'PctEmploy', 'PctEmplManu',\n",
    "                 'PctEmplProfServ', 'PctOccupManu', 'PctOccupMgmtProf', 'MalePctDivorce', 'MalePctNevMarr',\n",
    "                 'FemalePctDiv', 'TotalPctDiv', 'PersPerFam', 'PctFam2Par', 'PctKids2Par', 'PctYoungKids2Par',\n",
    "                 'PctTeen2Par', 'PctWorkMomYoungKids', 'PctWorkMom', 'NumIlleg', 'PctIlleg', 'NumImmig', 'PctImmigRecent',\n",
    "                 'PctImmigRec5', 'PctImmigRec8', 'PctImmigRec10', 'PctRecentImmig', 'PctRecImmig5', 'PctRecImmig8',\n",
    "                 'PctRecImmig10', 'PctSpeakEnglOnly', 'PctNotSpeakEnglWell', 'PctLargHouseFam', 'PctLargHouseOccup',\n",
    "                 'PersPerOccupHous', 'PersPerOwnOccHous', 'PersPerRentOccHous', 'PctPersOwnOccup', 'PctPersDenseHous',\n",
    "                 'PctHousLess3BR', 'MedNumBR', 'HousVacant', 'PctHousOccup', 'PctHousOwnOcc', 'PctVacantBoarded',\n",
    "                 'PctVacMore6Mos', 'MedYrHousBuilt', 'PctHousNoPhone', 'PctWOFullPlumb', 'OwnOccLowQuart', 'OwnOccMedVal',\n",
    "                 'OwnOccHiQuart', 'RentLowQ', 'RentMedian', 'RentHighQ', 'MedRent', 'MedRentPctHousInc', 'MedOwnCostPctInc',\n",
    "                 'MedOwnCostPctIncNoMtg', 'NumInShelters', 'NumStreet', 'PctForeignBorn', 'PctBornSameState', 'PctSameHouse85',\n",
    "                 'PctSameCity85', 'PctSameState85', 'LemasSwornFT', 'LemasSwFTPerPop', 'LemasSwFTFieldOps',\n",
    "                 'LemasSwFTFieldPerPop', 'LemasTotalReq', 'LemasTotReqPerPop', 'PolicReqPerOffic',\n",
    "                 'PolicPerPop', 'RacialMatchCommPol', 'PctPolicWhite', 'PctPolicBlack', 'PctPolicHisp',\n",
    "                 'PctPolicAsian', 'PctPolicMinor', 'OfficAssgnDrugUnits', 'NumKindsDrugsSeiz', 'PolicAveOTWorked',\n",
    "                 'LandArea', 'PopDens', 'PctUsePubTrans', 'PolicCars', 'PolicOperBudg', 'LemasPctPolicOnPatr',\n",
    "                 'LemasGangUnitDeploy', 'LemasPctOfficDrugUn', 'PolicBudgPerPop', 'ViolentCrimesPerPop']"
   ]
  },
  {
   "cell_type": "markdown",
   "id": "9ccb673a",
   "metadata": {},
   "source": [
    "## 2.1 Load Data\n",
    "Set the variable `CRIME_FILE` to the **full path** to the forest cover dataset (**crime.csv**) on your system. Load the file into a dataframe (you may initialize the column names using the header list `crime_column_names`), then:\n",
    "1. Determine the number and types of features.\n",
    "2. Perform a **ShuffleSplit** of the data into training/validation/test sets, 60%/20%/20%. \n",
    "3. Split the **non-test data** (*training* + *validation* data) into **5 folds** for cross-validation purposes.\n",
    "4. Perform any necessary preprocessing on dataset. This may include:\n",
    "  * determining if any features should be dropped;\n",
    "  * handling missing data, through imputation and/or complete case analysis. If you **perform imputation on numerical values**, please use **median** imputation.\n",
    "\n",
    "**Please note!** The Scikit-learn function `SimpleImputer` does not work as expected when the feature to impute is numerical but the missing values are not. One way to solve this is to first replace the missing values with NaN values (e.g., `np.nan`) using the Pandas Dataframe method `replace` [(documentation)](https://pandas.pydata.org/docs/reference/api/pandas.DataFrame.replace.html)."
   ]
  },
  {
   "cell_type": "code",
   "execution_count": 6,
   "outputs": [
    {
     "data": {
      "text/plain": "      state county community        communityname  fold  population  \\\n0         8      ?         ?         Lakewoodcity     1        0.19   \n1        53      ?         ?          Tukwilacity     1        0.00   \n2        24      ?         ?         Aberdeentown     1        0.00   \n3        34      5     81440  Willingborotownship     1        0.04   \n4        42     95      6096    Bethlehemtownship     1        0.01   \n...     ...    ...       ...                  ...   ...         ...   \n1989     12      ?         ?    TempleTerracecity    10        0.01   \n1990      6      ?         ?          Seasidecity    10        0.05   \n1991      9      9     80070        Waterburytown    10        0.16   \n1992     25     17     72600          Walthamcity    10        0.08   \n1993      6      ?         ?          Ontariocity    10        0.20   \n\n      householdsize  racepctblack  racePctWhite  racePctAsian  ...  LandArea  \\\n0              0.33          0.02          0.90          0.12  ...      0.12   \n1              0.16          0.12          0.74          0.45  ...      0.02   \n2              0.42          0.49          0.56          0.17  ...      0.01   \n3              0.77          1.00          0.08          0.12  ...      0.02   \n4              0.55          0.02          0.95          0.09  ...      0.04   \n...             ...           ...           ...           ...  ...       ...   \n1989           0.40          0.10          0.87          0.12  ...      0.01   \n1990           0.96          0.46          0.28          0.83  ...      0.02   \n1991           0.37          0.25          0.69          0.04  ...      0.08   \n1992           0.51          0.06          0.87          0.22  ...      0.03   \n1993           0.78          0.14          0.46          0.24  ...      0.11   \n\n      PopDens  PctUsePubTrans  PolicCars  PolicOperBudg  LemasPctPolicOnPatr  \\\n0        0.26            0.20       0.06           0.04                  0.9   \n1        0.12            0.45          ?              ?                    ?   \n2        0.21            0.02          ?              ?                    ?   \n3        0.39            0.28          ?              ?                    ?   \n4        0.09            0.02          ?              ?                    ?   \n...       ...             ...        ...            ...                  ...   \n1989     0.28            0.05          ?              ?                    ?   \n1990     0.37            0.20          ?              ?                    ?   \n1991     0.32            0.18       0.08           0.06                 0.78   \n1992     0.38            0.33       0.02           0.02                 0.79   \n1993     0.30            0.05       0.08           0.04                 0.73   \n\n      LemasGangUnitDeploy  LemasPctOfficDrugUn  PolicBudgPerPop  \\\n0                     0.5                 0.32             0.14   \n1                       ?                 0.00                ?   \n2                       ?                 0.00                ?   \n3                       ?                 0.00                ?   \n4                       ?                 0.00                ?   \n...                   ...                  ...              ...   \n1989                    ?                 0.00                ?   \n1990                    ?                 0.00                ?   \n1991                    0                 0.91             0.28   \n1992                    0                 0.22             0.18   \n1993                  0.5                 1.00             0.13   \n\n      ViolentCrimesPerPop  \n0                    0.20  \n1                    0.67  \n2                    0.43  \n3                    0.12  \n4                    0.03  \n...                   ...  \n1989                 0.09  \n1990                 0.45  \n1991                 0.23  \n1992                 0.19  \n1993                 0.48  \n\n[1994 rows x 128 columns]",
      "text/html": "<div>\n<style scoped>\n    .dataframe tbody tr th:only-of-type {\n        vertical-align: middle;\n    }\n\n    .dataframe tbody tr th {\n        vertical-align: top;\n    }\n\n    .dataframe thead th {\n        text-align: right;\n    }\n</style>\n<table border=\"1\" class=\"dataframe\">\n  <thead>\n    <tr style=\"text-align: right;\">\n      <th></th>\n      <th>state</th>\n      <th>county</th>\n      <th>community</th>\n      <th>communityname</th>\n      <th>fold</th>\n      <th>population</th>\n      <th>householdsize</th>\n      <th>racepctblack</th>\n      <th>racePctWhite</th>\n      <th>racePctAsian</th>\n      <th>...</th>\n      <th>LandArea</th>\n      <th>PopDens</th>\n      <th>PctUsePubTrans</th>\n      <th>PolicCars</th>\n      <th>PolicOperBudg</th>\n      <th>LemasPctPolicOnPatr</th>\n      <th>LemasGangUnitDeploy</th>\n      <th>LemasPctOfficDrugUn</th>\n      <th>PolicBudgPerPop</th>\n      <th>ViolentCrimesPerPop</th>\n    </tr>\n  </thead>\n  <tbody>\n    <tr>\n      <th>0</th>\n      <td>8</td>\n      <td>?</td>\n      <td>?</td>\n      <td>Lakewoodcity</td>\n      <td>1</td>\n      <td>0.19</td>\n      <td>0.33</td>\n      <td>0.02</td>\n      <td>0.90</td>\n      <td>0.12</td>\n      <td>...</td>\n      <td>0.12</td>\n      <td>0.26</td>\n      <td>0.20</td>\n      <td>0.06</td>\n      <td>0.04</td>\n      <td>0.9</td>\n      <td>0.5</td>\n      <td>0.32</td>\n      <td>0.14</td>\n      <td>0.20</td>\n    </tr>\n    <tr>\n      <th>1</th>\n      <td>53</td>\n      <td>?</td>\n      <td>?</td>\n      <td>Tukwilacity</td>\n      <td>1</td>\n      <td>0.00</td>\n      <td>0.16</td>\n      <td>0.12</td>\n      <td>0.74</td>\n      <td>0.45</td>\n      <td>...</td>\n      <td>0.02</td>\n      <td>0.12</td>\n      <td>0.45</td>\n      <td>?</td>\n      <td>?</td>\n      <td>?</td>\n      <td>?</td>\n      <td>0.00</td>\n      <td>?</td>\n      <td>0.67</td>\n    </tr>\n    <tr>\n      <th>2</th>\n      <td>24</td>\n      <td>?</td>\n      <td>?</td>\n      <td>Aberdeentown</td>\n      <td>1</td>\n      <td>0.00</td>\n      <td>0.42</td>\n      <td>0.49</td>\n      <td>0.56</td>\n      <td>0.17</td>\n      <td>...</td>\n      <td>0.01</td>\n      <td>0.21</td>\n      <td>0.02</td>\n      <td>?</td>\n      <td>?</td>\n      <td>?</td>\n      <td>?</td>\n      <td>0.00</td>\n      <td>?</td>\n      <td>0.43</td>\n    </tr>\n    <tr>\n      <th>3</th>\n      <td>34</td>\n      <td>5</td>\n      <td>81440</td>\n      <td>Willingborotownship</td>\n      <td>1</td>\n      <td>0.04</td>\n      <td>0.77</td>\n      <td>1.00</td>\n      <td>0.08</td>\n      <td>0.12</td>\n      <td>...</td>\n      <td>0.02</td>\n      <td>0.39</td>\n      <td>0.28</td>\n      <td>?</td>\n      <td>?</td>\n      <td>?</td>\n      <td>?</td>\n      <td>0.00</td>\n      <td>?</td>\n      <td>0.12</td>\n    </tr>\n    <tr>\n      <th>4</th>\n      <td>42</td>\n      <td>95</td>\n      <td>6096</td>\n      <td>Bethlehemtownship</td>\n      <td>1</td>\n      <td>0.01</td>\n      <td>0.55</td>\n      <td>0.02</td>\n      <td>0.95</td>\n      <td>0.09</td>\n      <td>...</td>\n      <td>0.04</td>\n      <td>0.09</td>\n      <td>0.02</td>\n      <td>?</td>\n      <td>?</td>\n      <td>?</td>\n      <td>?</td>\n      <td>0.00</td>\n      <td>?</td>\n      <td>0.03</td>\n    </tr>\n    <tr>\n      <th>...</th>\n      <td>...</td>\n      <td>...</td>\n      <td>...</td>\n      <td>...</td>\n      <td>...</td>\n      <td>...</td>\n      <td>...</td>\n      <td>...</td>\n      <td>...</td>\n      <td>...</td>\n      <td>...</td>\n      <td>...</td>\n      <td>...</td>\n      <td>...</td>\n      <td>...</td>\n      <td>...</td>\n      <td>...</td>\n      <td>...</td>\n      <td>...</td>\n      <td>...</td>\n      <td>...</td>\n    </tr>\n    <tr>\n      <th>1989</th>\n      <td>12</td>\n      <td>?</td>\n      <td>?</td>\n      <td>TempleTerracecity</td>\n      <td>10</td>\n      <td>0.01</td>\n      <td>0.40</td>\n      <td>0.10</td>\n      <td>0.87</td>\n      <td>0.12</td>\n      <td>...</td>\n      <td>0.01</td>\n      <td>0.28</td>\n      <td>0.05</td>\n      <td>?</td>\n      <td>?</td>\n      <td>?</td>\n      <td>?</td>\n      <td>0.00</td>\n      <td>?</td>\n      <td>0.09</td>\n    </tr>\n    <tr>\n      <th>1990</th>\n      <td>6</td>\n      <td>?</td>\n      <td>?</td>\n      <td>Seasidecity</td>\n      <td>10</td>\n      <td>0.05</td>\n      <td>0.96</td>\n      <td>0.46</td>\n      <td>0.28</td>\n      <td>0.83</td>\n      <td>...</td>\n      <td>0.02</td>\n      <td>0.37</td>\n      <td>0.20</td>\n      <td>?</td>\n      <td>?</td>\n      <td>?</td>\n      <td>?</td>\n      <td>0.00</td>\n      <td>?</td>\n      <td>0.45</td>\n    </tr>\n    <tr>\n      <th>1991</th>\n      <td>9</td>\n      <td>9</td>\n      <td>80070</td>\n      <td>Waterburytown</td>\n      <td>10</td>\n      <td>0.16</td>\n      <td>0.37</td>\n      <td>0.25</td>\n      <td>0.69</td>\n      <td>0.04</td>\n      <td>...</td>\n      <td>0.08</td>\n      <td>0.32</td>\n      <td>0.18</td>\n      <td>0.08</td>\n      <td>0.06</td>\n      <td>0.78</td>\n      <td>0</td>\n      <td>0.91</td>\n      <td>0.28</td>\n      <td>0.23</td>\n    </tr>\n    <tr>\n      <th>1992</th>\n      <td>25</td>\n      <td>17</td>\n      <td>72600</td>\n      <td>Walthamcity</td>\n      <td>10</td>\n      <td>0.08</td>\n      <td>0.51</td>\n      <td>0.06</td>\n      <td>0.87</td>\n      <td>0.22</td>\n      <td>...</td>\n      <td>0.03</td>\n      <td>0.38</td>\n      <td>0.33</td>\n      <td>0.02</td>\n      <td>0.02</td>\n      <td>0.79</td>\n      <td>0</td>\n      <td>0.22</td>\n      <td>0.18</td>\n      <td>0.19</td>\n    </tr>\n    <tr>\n      <th>1993</th>\n      <td>6</td>\n      <td>?</td>\n      <td>?</td>\n      <td>Ontariocity</td>\n      <td>10</td>\n      <td>0.20</td>\n      <td>0.78</td>\n      <td>0.14</td>\n      <td>0.46</td>\n      <td>0.24</td>\n      <td>...</td>\n      <td>0.11</td>\n      <td>0.30</td>\n      <td>0.05</td>\n      <td>0.08</td>\n      <td>0.04</td>\n      <td>0.73</td>\n      <td>0.5</td>\n      <td>1.00</td>\n      <td>0.13</td>\n      <td>0.48</td>\n    </tr>\n  </tbody>\n</table>\n<p>1994 rows × 128 columns</p>\n</div>"
     },
     "execution_count": 6,
     "metadata": {},
     "output_type": "execute_result"
    }
   ],
   "source": [
    "# crime_file = f'C:/Users/tanzi/CS Lang IDE/PycharmProjects/Project-2/UTF-8_crime.csv'\n",
    "crime_file = f'C:/Users/tanzi/CS Lang IDE/PycharmProjects/Jonathan/Project2/Project-2/UTF-8_crime.csv'\n",
    "crime_data = pd.read_csv(crime_file, names=crime_column_names)\n",
    "crime_data"
   ],
   "metadata": {
    "collapsed": false
   }
  },
  {
   "cell_type": "code",
   "execution_count": 7,
   "outputs": [
    {
     "data": {
      "text/plain": "state                    int64\ncounty                  object\ncommunity               object\ncommunityname           object\nfold                     int64\n                        ...   \nLemasPctPolicOnPatr     object\nLemasGangUnitDeploy     object\nLemasPctOfficDrugUn    float64\nPolicBudgPerPop         object\nViolentCrimesPerPop    float64\nLength: 128, dtype: object"
     },
     "execution_count": 7,
     "metadata": {},
     "output_type": "execute_result"
    }
   ],
   "source": [
    "crime_data.dtypes"
   ],
   "metadata": {
    "collapsed": false
   }
  },
  {
   "cell_type": "code",
   "execution_count": 8,
   "outputs": [
    {
     "name": "stdout",
     "output_type": "stream",
     "text": [
      "Number of features:  128\n"
     ]
    }
   ],
   "source": [
    "# Determine the number of features\n",
    "num_features = len(crime_column_names)\n",
    "print('Number of features: ', num_features)"
   ],
   "metadata": {
    "collapsed": false
   }
  },
  {
   "cell_type": "code",
   "execution_count": 9,
   "outputs": [
    {
     "name": "stdout",
     "output_type": "stream",
     "text": [
      "county : ['?' '5' '95' '7' '21' '87' '187' '1' '27' '129' '31' '193' '29' '680'\n",
      " '23' '3' '19' '35' '790' '53' '9' '119' '99' '17' '11' '135' '133' '45'\n",
      " '39' '61' '43' '157' '15' '13' '37' '107' '89' '41' '93' '71' '590' '55'\n",
      " '101' '75' '57' '63' '760' '69' '25' '830' '77' '155' '151' '123' '113'\n",
      " '49' '139' '169' '630' '79' '510' '65' '81' '105' '141' '33' '59' '131'\n",
      " '173' '109' '153' '103' '820' '750' '770' '740' '163' '97' '85' '121'\n",
      " '91' '73' '215' '181' '125' '690' '650' '127' '143' '660' '735' '147'\n",
      " '670' '683' '111' '67' '550' '117' '570' '800' '810' '700' '165' '167'\n",
      " '710' '145' '730' '840' '775']\n",
      "community : ['?' '81440' '6096' '41500' '44105' '30075' '91370' '1000' '17650' '66376'\n",
      " '93926' '61798' '22490' '47672' '59280' '40560' '22960' '55950' '81740'\n",
      " '12900' '57660' '45120' '43620' '30570' '75216' '42750' '58200' '54837'\n",
      " '34950' '46520' '82525' '84000' '63968' '66700' '22240' '37875' '87560'\n",
      " '45140' '76490' '73060' '83080' '83432' '20100' '80240' '47616' '66060'\n",
      " '21504' '39300' '58730' '45056' '22456' '4825' '13690' '51660' '79740'\n",
      " '66660' '75740' '37000' '62432' '20080' '56550' '7310' '7665' '16495'\n",
      " '70020' '54040' '74880' '37490' '82000' '32296' '36000' '70380' '5320'\n",
      " '44700' '53104' '56966' '18070' '38715' '48955' '14875' '40620' '23832'\n",
      " '40115' '65280' '21344' '71990' '83975' '56979' '41216' '1798' '26275'\n",
      " '54640' '44328' '52070' '17475' '11950' '76030' '1465' '42168' '86772'\n",
      " '40775' '68460' '32328' '67000' '14160' '18640' '27025' '67945' '18455'\n",
      " '74190' '59980' '7200' '16775' '20352' '10750' '41310' '4500' '77570'\n",
      " '41610' '86160' '78736' '2000' '43344' '65790' '47670' '88084' '49020'\n",
      " '5070' '26760' '3580' '12000' '53280' '51055' '9246' '4860' '93218'\n",
      " '26340' '36610' '79040' '2080' '33144' '83342' '82870' '18130' '61714'\n",
      " '28950' '53682' '50825' '31000' '30420' '18080' '86548' '100' '46410'\n",
      " '28640' '52490' '65340' '24000' '78600' '37940' '31240' '21480' '63624'\n",
      " '15640' '21000' '60120' '29744' '47138' '53000' '12700' '47042' '4000'\n",
      " '25560' '22560' '59735' '21990' '52320' '72824' '16920' '77000' '10375'\n",
      " '86025' '79820' '63418' '65370' '93170' '79492' '34450' '63000' '48500'\n",
      " '43220' '54310' '69274' '29428' '4750' '6500' '49675' '84077' '57870'\n",
      " '53850' '68260' '77840' '56060' '49840' '37175' '81035' '53680' '44856'\n",
      " '60825' '39225' '84192' '4695' '93955' '35075' '18000' '3078' '27815'\n",
      " '73760' '80270' '52584' '85350' '8950' '42090' '5616' '41224' '11315'\n",
      " '74630' '69420' '16749' '73070' '19780' '65760' '79000' '1960' '79800'\n",
      " '53380' '19180' '38077' '84528' '78932' '44832' '56130' '1220' '3050'\n",
      " '11200' '29443' '12280' '67610' '32800' '45900' '54870' '48244' '81677'\n",
      " '29405' '18256' '40189' '44968' '85312' '59105' '29333' '76106' '52980'\n",
      " '22300' '48020' '5595' '70320' '8430' '29400' '74000' '83680' '9000'\n",
      " '59020' '37070' '60785' '63360' '65392' '71390' '87056' '61225' '50250'\n",
      " '7000' '43440' '14140' '68000' '88000' '30140' '56375' '80990' '60000'\n",
      " '25230' '64000' '7720' '28240' '90672' '1420' '41440' '74118' '13456'\n",
      " '5910' '54270' '62900' '11272' '63264' '57302' '57386' '75816' '19700'\n",
      " '60545' '1185' '19620' '74300' '57260' '66175' '77200' '39625' '85036'\n",
      " '17440' '77630' '7180' '55574' '19390' '65508' '58350' '56460' '11000'\n",
      " '37720' '13150' '28680' '31125' '59925' '33408' '81048' '49890' '78800'\n",
      " '90741' '20230' '43740' '32310' '52480' '50784' '60330' '15060' '85188'\n",
      " '52140' '70880' '69584' '74608' '33620' '81168' '17800' '56456' '62148'\n",
      " '43554' '6088' '84512' '9175' '77152' '7580' '56270' '54875' '65255'\n",
      " '48340' '17940' '31470' '19775' '32640' '17720' '43335' '82590' '5560'\n",
      " '46925' '6260' '66200' '69390' '51575' '46365' '4615' '54716' '48090'\n",
      " '57510' '15000' '71620' '30210' '31010' '53368' '92036' '4300' '59608'\n",
      " '16000' '46820' '59190' '74480' '30455' '59000' '2100' '80740' '37772'\n",
      " '51760' '72632' '75815' '43100' '49300' '60900' '79460' '84250' '74944'\n",
      " '49960' '52350' '36300' '2568' '77344' '38800' '39765' '4930' '43140'\n",
      " '42990' '51810' '24925' '81325' '47880' '50000' '23584' '59250' '46896'\n",
      " '48000' '14712' '45560' '73725' '71892' '27600' '71682' '73895' '46225'\n",
      " '39510' '85300' '72928' '76070' '59640' '49784' '2480' '72215' '40890'\n",
      " '45460' '4792' '10464' '45096' '76025' '83500' '20290' '43895' '60915'\n",
      " '72420' '43082' '19840' '9280' '58800' '40290' '14200' '15384' '47535'\n",
      " '8085' '64675' '57600' '45000' '38288' '13208' '54688' '35000' '21105'\n",
      " '79056' '68940' '91085' '86925' '83622' '61680' '41690' '60015' '69940'\n",
      " '68388' '45810' '73405' '54705' '34952' '42510' '5140' '32910' '13045'\n",
      " '55955' '53224' '31540' '28770' '10025' '40040' '79002' '36510' '66570'\n",
      " '75672' '45990' '54485' '29553' '31645' '80780' '60750' '8760' '60500'\n",
      " '63150' '37380' '61000' '94597' '18500' '61800' '80510' '73020' '55000'\n",
      " '71430' '64080' '41664' '6064' '52560' '26675' '16425' '28826' '26150'\n",
      " '82120' '86370' '78510' '65732' '35624' '63768' '40675' '74104' '68430'\n",
      " '66145' '61120' '8980' '54360' '55750' '78776' '68645' '84475' '62535'\n",
      " '76778' '52200' '82105' '16250' '4920' '45690' '50580' '86968' '23000'\n",
      " '50640' '10000' '87070' '51025' '49600' '2184' '74540' '40580' '64980'\n",
      " '6607' '78865' '38424' '55216' '64620' '23850' '48620' '70' '30700'\n",
      " '41165' '22470' '72360' '54808' '19550' '58980' '33012' '23875' '32448'\n",
      " '76570' '37825' '76220' '57880' '77255' '46380' '30367' '21300' '75620'\n",
      " '47500' '51000' '52470' '2130' '31980' '72495' '80490' '2060' '34980'\n",
      " '77850' '48300' '46924' '25065' '69000' '5170' '62940' '29430' '28875'\n",
      " '31890' '49056' '79610' '25112' '48952' '29020' '39727' '32250' '73000'\n",
      " '15350' '7810' '25485' '26640' '78690' '34680' '49120' '7600' '40180'\n",
      " '53960' '28740' '47540' '13570' '76540' '43000' '54881' '68750' '87000'\n",
      " '78650' '39835' '73140' '25950' '77930' '5900' '53750' '80280' '6278'\n",
      " '72975' '27706' '88200' '71416' '38550' '49970' '2066' '12144' '8416'\n",
      " '3425' '62430' '44070' '18400' '86700' '50440' '61890' '55540' '14575'\n",
      " '76460' '19645' '47360' '8070' '83050' '50260' '10675' '64145' '39784'\n",
      " '40440' '22185' '29860' '26820' '93480' '51150' '75125' '68790' '3635'\n",
      " '45008' '84675' '55128' '80230' '25200' '64309' '69690' '75098' '75015'\n",
      " '67460' '18448' '25990' '58110' '76432' '73770' '24420' '8364' '18820'\n",
      " '58880' '38855' '41300' '10824' '14260' '59350' '25700' '55275' '34795'\n",
      " '56000' '43800' '52805' '64544' '19792' '10472' '12016' '78250' '35215'\n",
      " '42364' '47628' '57000' '82704' '7420' '78740' '49322' '84900' '46680'\n",
      " '48900' '68170' '7175' '10030' '83152' '64304' '25380' '92890' '52630'\n",
      " '51210' '41100' '50034' '18850' '53890' '38400' '60090' '29550' '84780'\n",
      " '26430' '22630' '19000' '17710' '61832' '86720' '32060' '66000' '69300'\n",
      " '61920' '5888' '2375' '83512' '3336' '70000' '14395' '38740' '34550'\n",
      " '40350' '64650' '24820' '22110' '55745' '3828' '49950' '74119' '59880'\n",
      " '13135' '55770' '2795' '36480' '12940' '5100' '17975' '49080' '62250'\n",
      " '25770' '76940' '21600' '5300' '18388' '33180' '51825' '18350' '30690'\n",
      " '86220' '16014' '59641' '49121' '76135' '1605' '4720' '61530' '69170'\n",
      " '35650' '73168' '48342' '70550' '11800' '80070' '72600']\n",
      "communityname : ['Lakewoodcity' 'Tukwilacity' 'Aberdeentown' ... 'Waterburytown'\n",
      " 'Walthamcity' 'Ontariocity']\n",
      "OtherPerCap : ['0.36' '0.22' '0.28' '0.51' '0.48' '0.24' '0.18' '0.29' '0.17' '0.34'\n",
      " '0.35' '0.13' '0.33' '0.2' '1' '0.72' '0' '0.19' '0.3' '0.38' '0.14'\n",
      " '0.26' '0.64' '0.25' '0.37' '0.16' '0.15' '0.76' '0.4' '0.42' '0.23'\n",
      " '0.31' '0.32' '0.5' '0.66' '0.21' '0.7' '0.27' '0.11' '0.55' '0.95'\n",
      " '0.03' '0.45' '0.08' '0.43' '0.62' '0.02' '0.41' '?' '0.39' '0.88' '0.71'\n",
      " '0.44' '0.47' '0.09' '0.53' '0.1' '0.46' '0.05' '0.52' '0.75' '0.06'\n",
      " '0.93' '0.12' '0.77' '0.69' '0.86' '0.73' '0.67' '0.84' '0.81' '0.54'\n",
      " '0.59' '0.01' '0.68' '0.98' '0.04' '0.61' '0.9' '0.57' '0.49' '0.56'\n",
      " '0.07' '0.92' '0.6' '0.94' '0.63' '0.87' '0.79' '0.99' '0.58' '0.83'\n",
      " '0.85' '0.8' '0.82' '0.74' '0.65' '0.89']\n",
      "LemasSwornFT : ['0.03' '?' '0.06' '0.25' '0.01' '0.02' '0.04' '0.2' '0.05' '0.07' '0.1'\n",
      " '0.15' '0.12' '0.19' '0.13' '0.11' '0.14' '0.41' '0.63' '0' '0.16' '0.24'\n",
      " '0.3' '0.08' '1' '0.09' '0.45' '0.58' '0.38' '0.34' '0.54' '0.42' '0.17'\n",
      " '0.28' '0.22' '0.18' '0.29' '0.21' '0.39']\n",
      "LemasSwFTPerPop : ['0.13' '?' '0.3' '0.08' '0.16' '0.11' '0.19' '0.17' '0.2' '0.39' '0.28'\n",
      " '0.14' '0.21' '0.15' '0.18' '0.25' '1' '0.22' '0.41' '0.07' '0.06' '0.09'\n",
      " '0.12' '0.32' '0' '0.26' '0.31' '0.05' '0.38' '0.1' '0.27' '0.29' '0.4'\n",
      " '0.64' '0.02' '0.23' '0.35' '0.55' '0.43' '0.37' '0.24' '0.68' '0.33'\n",
      " '0.72' '0.67' '0.98' '0.85' '0.04' '0.5' '0.34' '0.83' '0.03' '0.42']\n",
      "LemasSwFTFieldOps : ['0.96' '?' '0.93' '0.75' '0.98' '0.97' '0.95' '0.85' '0.94' '0.91' '0.89'\n",
      " '0.83' '0.92' '0.86' '0.87' '0.63' '0.37' '0.99' '0.67' '0' '0.9' '0.53'\n",
      " '0.49' '0.8' '0.64' '0.84' '0.61' '0.72' '0.55' '0.81' '1' '0.88' '0.73'\n",
      " '0.76' '0.82']\n",
      "LemasSwFTFieldPerPop : ['0.17' '?' '0.38' '0.12' '0.19' '0.14' '0.23' '0.2' '0.25' '0.33' '0.21'\n",
      " '0.31' '0.22' '0.18' '0.32' '0.27' '0.16' '0.24' '1' '0.26' '0.28' '0.42'\n",
      " '0.04' '0.08' '0.13' '0.01' '0.03' '0.48' '0.1' '0.11' '0.3' '0.47'\n",
      " '0.34' '0.51' '0.29' '0.4' '0.57' '0.15' '0.45' '0.43' '0.46' '0.36'\n",
      " '0.37' '0.63' '0.8' '0.88' '0.39' '0.86' '0.56' '0.06' '0' '0.41' '0.44'\n",
      " '0.65' '0.55' '0.49']\n",
      "LemasTotalReq : ['0.06' '?' '0.05' '0.35' '0.03' '0.04' '0.02' '0.01' '0.29' '0.07' '0.26'\n",
      " '0.08' '0.1' '0.28' '0.18' '0.45' '0.31' '0.17' '0.23' '0.13' '0.16'\n",
      " '0.74' '0.15' '0.63' '0.09' '1' '0' '0.2' '0.11' '0.78' '0.12' '0.32'\n",
      " '0.52' '0.44' '0.33' '0.58' '0.42' '0.14' '0.24' '0.49' '0.4' '0.43'\n",
      " '0.3' '0.5' '0.66']\n",
      "LemasTotReqPerPop : ['0.18' '?' '0.21' '0.11' '0.19' '0.14' '0.17' '0.13' '0.2' '0.05' '0.15'\n",
      " '0.12' '0.08' '0.45' '0.31' '0.09' '0.22' '0.23' '0.25' '0.3' '1' '0.36'\n",
      " '0.4' '0.46' '0.02' '0.1' '0.38' '0' '0.26' '0.84' '0.27' '0.43' '0.06'\n",
      " '0.32' '0.39' '0.24' '0.29' '0.61' '0.28' '0.37' '0.53' '0.69' '0.07'\n",
      " '0.48' '0.72' '0.34' '0.77' '0.52' '0.6' '0.42' '0.16' '0.58' '0.54'\n",
      " '0.49' '0.47' '0.41' '0.35' '0.04' '0.03' '0.51']\n",
      "PolicReqPerOffic : ['0.44' '?' '0.23' '0.35' '0.38' '0.37' '0.29' '0.25' '0.31' '0.02' '0.41'\n",
      " '0.08' '0.4' '1' '0.12' '0.33' '0.11' '0.21' '0.66' '0.2' '0.22' '0.47'\n",
      " '0.55' '0.56' '0.18' '0.3' '0.46' '0.49' '0.64' '0.27' '0.26' '0.09'\n",
      " '0.67' '0.19' '0.34' '0.24' '0.51' '0.45' '0.95' '0.1' '0.65' '0.43'\n",
      " '0.78' '0.54' '0.61' '0.52' '0.58' '0.32' '0.57' '0.36' '0.14' '0.28'\n",
      " '0.74' '0.15' '0.39' '0.75' '0.16' '0.62' '0.13' '0.63' '0.7' '0.42'\n",
      " '0.17' '0.05' '0' '0.48' '0.5' '0.9' '0.81' '0.84' '0.07' '0.06' '0.68'\n",
      " '0.99' '0.87' '0.86']\n",
      "PolicPerPop : ['0.13' '?' '0.3' '0.08' '0.16' '0.11' '0.19' '0.17' '0.2' '0.39' '0.28'\n",
      " '0.14' '0.21' '0.15' '0.18' '0.25' '1' '0.22' '0.41' '0.07' '0.06' '0.09'\n",
      " '0.12' '0.32' '0' '0.26' '0.31' '0.05' '0.38' '0.1' '0.27' '0.29' '0.4'\n",
      " '0.64' '0.02' '0.23' '0.35' '0.55' '0.43' '0.37' '0.24' '0.68' '0.33'\n",
      " '0.72' '0.67' '0.98' '0.85' '0.04' '0.5' '0.34' '0.83' '0.03' '0.42']\n",
      "RacialMatchCommPol : ['0.94' '?' '0.61' '0.8' '0.82' '0.84' '0.86' '0.9' '0.87' '0.76' '0.53'\n",
      " '0.36' '0.98' '0.29' '0.99' '0.75' '0.65' '0.79' '0.81' '0.95' '0.78'\n",
      " '0.62' '0' '0.74' '0.48' '0.51' '0.7' '0.55' '0.17' '0.57' '0.89' '0.52'\n",
      " '0.58' '0.45' '0.63' '0.28' '0.54' '0.69' '0.46' '0.88' '0.32' '0.39'\n",
      " '0.83' '1' '0.56' '0.77' '0.93' '0.92' '0.91' '0.97' '0.34' '0.73' '0.85'\n",
      " '0.24' '0.96' '0.67' '0.41' '0.11' '0.35' '0.12' '0.5' '0.22' '0.43'\n",
      " '0.66' '0.72' '0.71' '0.6' '0.09' '0.49' '0.42' '0.33' '0.31' '0.68'\n",
      " '0.64' '0.4' '0.37' '0.27']\n",
      "PctPolicWhite : ['0.93' '?' '0.89' '0.82' '0.7' '0.96' '0.85' '0.87' '0.61' '0.91' '0.9'\n",
      " '0.84' '0.72' '0.68' '0.88' '0.95' '0.97' '0.98' '0.79' '0.78' '0.44'\n",
      " '0.54' '0.65' '0.76' '0.53' '0.46' '0.83' '0.51' '0.99' '0.67' '0.48'\n",
      " '0.86' '0.69' '0.56' '0.21' '0.63' '0.94' '0.43' '0.75' '0' '0.47' '0.92'\n",
      " '0.16' '0.6' '0.32' '0.41' '0.77' '0.36' '0.66' '0.62' '0.81' '1' '0.4'\n",
      " '0.27' '0.33' '0.52' '0.8' '0.73' '0.59' '0.58' '0.74' '0.64' '0.5' '0.1'\n",
      " '0.71' '0.55' '0.3' '0.35' '0.29' '0.37' '0.49' '0.06' '0.28' '0.23'\n",
      " '0.57']\n",
      "PctPolicBlack : ['0.03' '?' '0.15' '0.04' '0.45' '0' '0.24' '0.1' '0.13' '0.2' '0.02'\n",
      " '0.14' '0.11' '0.38' '0.06' '0.16' '0.08' '0.51' '0.01' '0.54' '0.19'\n",
      " '0.07' '0.68' '0.48' '0.18' '0.41' '0.78' '0.12' '0.52' '0.44' '0.34'\n",
      " '0.3' '0.66' '1' '0.05' '0.42' '0.91' '0.53' '0.67' '0.28' '0.43' '0.25'\n",
      " '0.33' '0.71' '0.36' '0.99' '0.63' '0.22' '0.59' '0.39' '0.75' '0.31'\n",
      " '0.49' '0.46' '0.29' '0.09' '0.7' '0.47' '0.27' '0.62' '0.87' '0.17'\n",
      " '0.64' '0.23' '0.86' '0.94' '0.5' '0.81' '0.55' '0.77' '0.26' '0.37'\n",
      " '0.8' '0.4']\n",
      "PctPolicHisp : ['0.07' '?' '0.01' '0.19' '0.03' '0' '0.38' '0.23' '0.14' '0.52' '0.09'\n",
      " '0.06' '0.02' '0.16' '0.15' '0.53' '0.29' '0.43' '0.04' '0.32' '0.4'\n",
      " '0.47' '0.05' '0.24' '0.27' '0.22' '1' '0.12' '0.34' '0.28' '0.42' '0.08'\n",
      " '0.83' '0.39' '0.21' '0.9' '0.11' '0.57' '0.55' '0.31' '0.18' '0.17'\n",
      " '0.36' '0.13' '0.33' '0.3' '0.1' '0.46' '0.2' '0.67' '0.65' '0.44' '0.26'\n",
      " '0.54' '0.25']\n",
      "PctPolicAsian : ['0.1' '?' '0.06' '0.19' '0.05' '0' '0.27' '0.26' '0.09' '0.04' '0.17'\n",
      " '0.13' '0.12' '0.37' '0.72' '0.35' '0.51' '0.08' '0.14' '0.38' '0.29'\n",
      " '0.74' '0.49' '0.81' '0.4' '1' '0.23' '0.07' '0.11' '0.16' '0.52' '0.15'\n",
      " '0.8' '0.3' '0.18' '0.59' '0.22' '0.98' '0.69' '0.03' '0.01' '0.32'\n",
      " '0.21' '0.48' '0.39' '0.31' '0.75' '0.56' '0.93' '0.67' '0.6']\n",
      "PctPolicMinor : ['0.07' '?' '0.12' '0.18' '0.33' '0' '0.17' '0.11' '0.41' '0.09' '0.1'\n",
      " '0.31' '0.35' '0.13' '0.05' '0.03' '0.01' '0.21' '0.42' '0.15' '0.61'\n",
      " '0.48' '0.02' '0.39' '0.16' '0.26' '0.52' '0.6' '0.19' '0.04' '0.22'\n",
      " '0.29' '0.54' '0.36' '0.37' '0.23' '0.24' '0.34' '0.88' '0.27' '0.3'\n",
      " '0.63' '0.28' '1' '0.4' '0.5' '0.38' '0.93' '0.44' '0.08' '0.49' '0.25'\n",
      " '0.65' '0.2' '0.66' '0.81' '0.72' '0.53' '0.14' '0.46' '0.06' '0.55'\n",
      " '0.32' '0.69' '0.78' '0.71' '0.7' '0.79' '0.56' '0.43' '0.76' '0.67'\n",
      " '0.47']\n",
      "OfficAssgnDrugUnits : ['0.02' '?' '0.1' '0.05' '0.13' '0.03' '0.07' '0.04' '0.08' '0.11' '0'\n",
      " '0.01' '0.15' '0.18' '0.12' '0.06' '0.16' '0.37' '0.19' '1' '0.26' '0.33'\n",
      " '0.17' '0.22' '0.73' '0.09' '0.49' '0.14' '0.44' '0.45' '0.4']\n",
      "NumKindsDrugsSeiz : ['0.57' '?' '0.64' '0.86' '0.5' '0.29' '0.79' '0.21' '0.07' '0' '0.43'\n",
      " '0.93' '0.36' '0.71' '0.14' '1']\n",
      "PolicAveOTWorked : ['0.29' '?' '0.22' '0.36' '1' '0.1' '0.78' '0.16' '0.38' '0.34' '0.31'\n",
      " '0.3' '0.33' '0.49' '0.48' '0.5' '0.09' '0.14' '0' '0.17' '0.05' '0.39'\n",
      " '0.27' '0.65' '0.99' '0.02' '0.15' '0.06' '0.24' '0.76' '0.18' '0.43'\n",
      " '0.19' '0.07' '0.2' '0.72' '0.12' '0.26' '0.55' '0.35' '0.59' '0.37'\n",
      " '0.67' '0.57' '0.54' '0.32' '0.11' '0.08' '0.74' '0.23' '0.21' '0.25'\n",
      " '0.28' '0.63' '0.84' '0.92' '0.13' '0.75' '0.04' '0.41' '0.4' '0.66'\n",
      " '0.44' '0.9' '0.51' '0.47' '0.42' '0.62' '0.45' '0.86' '0.79' '0.6'\n",
      " '0.52' '0.58' '0.03' '0.01' '0.46' '0.97']\n",
      "PolicCars : ['0.06' '?' '0.09' '1' '0.04' '0.05' '0.03' '0.41' '0.07' '0.25' '0'\n",
      " '0.02' '0.18' '0.21' '0.1' '0.01' '0.22' '0.11' '0.55' '0.08' '0.47'\n",
      " '0.16' '0.29' '0.14' '0.43' '0.15' '0.28' '0.2' '0.62' '0.36' '0.37'\n",
      " '0.67' '0.12' '0.27' '0.3' '0.58' '0.35' '0.71' '0.23' '0.17' '0.26'\n",
      " '0.82' '0.51' '0.92' '0.24' '0.13' '0.32' '0.19' '0.49' '0.38' '0.61'\n",
      " '0.65' '0.73' '0.89' '0.72' '0.64' '0.31' '0.68' '0.4' '0.44' '0.98'\n",
      " '0.53' '0.69' '0.45']\n",
      "PolicOperBudg : ['0.04' '?' '0.06' '0.05' '0.35' '0.01' '0.02' '0.28' '0.03' '0.09' '0.14'\n",
      " '0.08' '0.15' '0.07' '0.12' '0' '0.19' '0.1' '0.13' '0.38' '0.58' '0.17'\n",
      " '0.34' '1' '0.41' '0.52' '0.72' '0.3' '0.64' '0.2' '0.26' '0.18' '0.47'\n",
      " '0.36' '0.24' '0.27' '0.32' '0.16' '0.62']\n",
      "LemasPctPolicOnPatr : ['0.9' '?' '0.91' '0.88' '0.73' '0.81' '0.75' '0.74' '0.84' '0.19' '0.79'\n",
      " '0.94' '0.64' '0.7' '0.78' '0.92' '0.69' '0.8' '0.58' '0.76' '0.68'\n",
      " '0.42' '0.86' '0.62' '0.51' '0.82' '0.49' '0' '0.54' '0.93' '0.87' '0.66'\n",
      " '0.71' '0.36' '0.67' '0.89' '0.57' '0.96' '0.83' '0.97' '0.38' '0.1'\n",
      " '0.6' '0.98' '0.55' '0.72' '0.77' '0.85' '0.56' '0.5' '1' '0.61' '0.35'\n",
      " '0.99' '0.65' '0.25' '0.63' '0.28' '0.22' '0.59' '0.46' '0.15' '0.48'\n",
      " '0.24' '0.01' '0.44' '0.45' '0.09' '0.34' '0.41' '0.07' '0.13' '0.39']\n",
      "LemasGangUnitDeploy : ['0.5' '?' '0' '1']\n",
      "PolicBudgPerPop : ['0.14' '?' '0.26' '0.13' '0.21' '0.09' '0.1' '0.07' '0.11' '0.51' '0.12'\n",
      " '0.23' '0.15' '0.34' '0.27' '0.08' '0.22' '0.28' '1' '0.18' '0.2' '0.04'\n",
      " '0.36' '0.24' '0.02' '0.19' '0.16' '0' '0.01' '0.69' '0.06' '0.25' '0.82'\n",
      " '0.17' '0.33' '0.32' '0.29' '0.71' '0.05' '0.31' '0.54' '0.52' '0.56'\n",
      " '0.03' '0.73' '0.35' '0.3' '0.44' '0.99' '0.48' '0.76' '0.4']\n"
     ]
    }
   ],
   "source": [
    "#Determine nature of object types\n",
    "crime_cat_columns=dict()\n",
    "crime_cat_columns_idx=dict()\n",
    "crime_num_columns_idx=dict()\n",
    "for col in crime_column_names:\n",
    "    if crime_data[col].dtype == 'object':\n",
    "        crime_cat_columns[col]=crime_data[col].unique()\n",
    "        crime_cat_columns_idx[col]=crime_data.columns.get_loc(col)\n",
    "        print(col,\":\",crime_cat_columns[col])\n",
    "    elif np.issubdtype(crime_data.at[0,col], np.number):\n",
    "        crime_num_columns_idx[col]=crime_data.columns.get_loc(col)"
   ],
   "metadata": {
    "collapsed": false
   }
  },
  {
   "cell_type": "markdown",
   "source": [
    "# Preprocessing Dataset"
   ],
   "metadata": {
    "collapsed": false
   }
  },
  {
   "cell_type": "markdown",
   "source": [
    "## Removal of redundact data\n",
    "# Comment:\n",
    "1. 1st approach: debating between state and county vs commmunityname. I highly think community name should be removed, since it's a string.\n",
    "but the reason why I did not remove it because as the description talked about *given community*, which is the input. or is community enough?\n",
    "2. 2nd apporach:I am assuming community mean number of people are living in communityname. And that's why I was thinking of encoding communityname.\n",
    "3. Question 1 and 2 got my answer."
   ],
   "metadata": {
    "collapsed": false
   }
  },
  {
   "cell_type": "code",
   "execution_count": 10,
   "outputs": [
    {
     "name": "stdout",
     "output_type": "stream",
     "text": [
      "community : ['?' '81440' '6096' '41500' '44105' '30075' '91370' '1000' '17650' '66376'\n",
      " '93926' '61798' '22490' '47672' '59280' '40560' '22960' '55950' '81740'\n",
      " '12900' '57660' '45120' '43620' '30570' '75216' '42750' '58200' '54837'\n",
      " '34950' '46520' '82525' '84000' '63968' '66700' '22240' '37875' '87560'\n",
      " '45140' '76490' '73060' '83080' '83432' '20100' '80240' '47616' '66060'\n",
      " '21504' '39300' '58730' '45056' '22456' '4825' '13690' '51660' '79740'\n",
      " '66660' '75740' '37000' '62432' '20080' '56550' '7310' '7665' '16495'\n",
      " '70020' '54040' '74880' '37490' '82000' '32296' '36000' '70380' '5320'\n",
      " '44700' '53104' '56966' '18070' '38715' '48955' '14875' '40620' '23832'\n",
      " '40115' '65280' '21344' '71990' '83975' '56979' '41216' '1798' '26275'\n",
      " '54640' '44328' '52070' '17475' '11950' '76030' '1465' '42168' '86772'\n",
      " '40775' '68460' '32328' '67000' '14160' '18640' '27025' '67945' '18455'\n",
      " '74190' '59980' '7200' '16775' '20352' '10750' '41310' '4500' '77570'\n",
      " '41610' '86160' '78736' '2000' '43344' '65790' '47670' '88084' '49020'\n",
      " '5070' '26760' '3580' '12000' '53280' '51055' '9246' '4860' '93218'\n",
      " '26340' '36610' '79040' '2080' '33144' '83342' '82870' '18130' '61714'\n",
      " '28950' '53682' '50825' '31000' '30420' '18080' '86548' '100' '46410'\n",
      " '28640' '52490' '65340' '24000' '78600' '37940' '31240' '21480' '63624'\n",
      " '15640' '21000' '60120' '29744' '47138' '53000' '12700' '47042' '4000'\n",
      " '25560' '22560' '59735' '21990' '52320' '72824' '16920' '77000' '10375'\n",
      " '86025' '79820' '63418' '65370' '93170' '79492' '34450' '63000' '48500'\n",
      " '43220' '54310' '69274' '29428' '4750' '6500' '49675' '84077' '57870'\n",
      " '53850' '68260' '77840' '56060' '49840' '37175' '81035' '53680' '44856'\n",
      " '60825' '39225' '84192' '4695' '93955' '35075' '18000' '3078' '27815'\n",
      " '73760' '80270' '52584' '85350' '8950' '42090' '5616' '41224' '11315'\n",
      " '74630' '69420' '16749' '73070' '19780' '65760' '79000' '1960' '79800'\n",
      " '53380' '19180' '38077' '84528' '78932' '44832' '56130' '1220' '3050'\n",
      " '11200' '29443' '12280' '67610' '32800' '45900' '54870' '48244' '81677'\n",
      " '29405' '18256' '40189' '44968' '85312' '59105' '29333' '76106' '52980'\n",
      " '22300' '48020' '5595' '70320' '8430' '29400' '74000' '83680' '9000'\n",
      " '59020' '37070' '60785' '63360' '65392' '71390' '87056' '61225' '50250'\n",
      " '7000' '43440' '14140' '68000' '88000' '30140' '56375' '80990' '60000'\n",
      " '25230' '64000' '7720' '28240' '90672' '1420' '41440' '74118' '13456'\n",
      " '5910' '54270' '62900' '11272' '63264' '57302' '57386' '75816' '19700'\n",
      " '60545' '1185' '19620' '74300' '57260' '66175' '77200' '39625' '85036'\n",
      " '17440' '77630' '7180' '55574' '19390' '65508' '58350' '56460' '11000'\n",
      " '37720' '13150' '28680' '31125' '59925' '33408' '81048' '49890' '78800'\n",
      " '90741' '20230' '43740' '32310' '52480' '50784' '60330' '15060' '85188'\n",
      " '52140' '70880' '69584' '74608' '33620' '81168' '17800' '56456' '62148'\n",
      " '43554' '6088' '84512' '9175' '77152' '7580' '56270' '54875' '65255'\n",
      " '48340' '17940' '31470' '19775' '32640' '17720' '43335' '82590' '5560'\n",
      " '46925' '6260' '66200' '69390' '51575' '46365' '4615' '54716' '48090'\n",
      " '57510' '15000' '71620' '30210' '31010' '53368' '92036' '4300' '59608'\n",
      " '16000' '46820' '59190' '74480' '30455' '59000' '2100' '80740' '37772'\n",
      " '51760' '72632' '75815' '43100' '49300' '60900' '79460' '84250' '74944'\n",
      " '49960' '52350' '36300' '2568' '77344' '38800' '39765' '4930' '43140'\n",
      " '42990' '51810' '24925' '81325' '47880' '50000' '23584' '59250' '46896'\n",
      " '48000' '14712' '45560' '73725' '71892' '27600' '71682' '73895' '46225'\n",
      " '39510' '85300' '72928' '76070' '59640' '49784' '2480' '72215' '40890'\n",
      " '45460' '4792' '10464' '45096' '76025' '83500' '20290' '43895' '60915'\n",
      " '72420' '43082' '19840' '9280' '58800' '40290' '14200' '15384' '47535'\n",
      " '8085' '64675' '57600' '45000' '38288' '13208' '54688' '35000' '21105'\n",
      " '79056' '68940' '91085' '86925' '83622' '61680' '41690' '60015' '69940'\n",
      " '68388' '45810' '73405' '54705' '34952' '42510' '5140' '32910' '13045'\n",
      " '55955' '53224' '31540' '28770' '10025' '40040' '79002' '36510' '66570'\n",
      " '75672' '45990' '54485' '29553' '31645' '80780' '60750' '8760' '60500'\n",
      " '63150' '37380' '61000' '94597' '18500' '61800' '80510' '73020' '55000'\n",
      " '71430' '64080' '41664' '6064' '52560' '26675' '16425' '28826' '26150'\n",
      " '82120' '86370' '78510' '65732' '35624' '63768' '40675' '74104' '68430'\n",
      " '66145' '61120' '8980' '54360' '55750' '78776' '68645' '84475' '62535'\n",
      " '76778' '52200' '82105' '16250' '4920' '45690' '50580' '86968' '23000'\n",
      " '50640' '10000' '87070' '51025' '49600' '2184' '74540' '40580' '64980'\n",
      " '6607' '78865' '38424' '55216' '64620' '23850' '48620' '70' '30700'\n",
      " '41165' '22470' '72360' '54808' '19550' '58980' '33012' '23875' '32448'\n",
      " '76570' '37825' '76220' '57880' '77255' '46380' '30367' '21300' '75620'\n",
      " '47500' '51000' '52470' '2130' '31980' '72495' '80490' '2060' '34980'\n",
      " '77850' '48300' '46924' '25065' '69000' '5170' '62940' '29430' '28875'\n",
      " '31890' '49056' '79610' '25112' '48952' '29020' '39727' '32250' '73000'\n",
      " '15350' '7810' '25485' '26640' '78690' '34680' '49120' '7600' '40180'\n",
      " '53960' '28740' '47540' '13570' '76540' '43000' '54881' '68750' '87000'\n",
      " '78650' '39835' '73140' '25950' '77930' '5900' '53750' '80280' '6278'\n",
      " '72975' '27706' '88200' '71416' '38550' '49970' '2066' '12144' '8416'\n",
      " '3425' '62430' '44070' '18400' '86700' '50440' '61890' '55540' '14575'\n",
      " '76460' '19645' '47360' '8070' '83050' '50260' '10675' '64145' '39784'\n",
      " '40440' '22185' '29860' '26820' '93480' '51150' '75125' '68790' '3635'\n",
      " '45008' '84675' '55128' '80230' '25200' '64309' '69690' '75098' '75015'\n",
      " '67460' '18448' '25990' '58110' '76432' '73770' '24420' '8364' '18820'\n",
      " '58880' '38855' '41300' '10824' '14260' '59350' '25700' '55275' '34795'\n",
      " '56000' '43800' '52805' '64544' '19792' '10472' '12016' '78250' '35215'\n",
      " '42364' '47628' '57000' '82704' '7420' '78740' '49322' '84900' '46680'\n",
      " '48900' '68170' '7175' '10030' '83152' '64304' '25380' '92890' '52630'\n",
      " '51210' '41100' '50034' '18850' '53890' '38400' '60090' '29550' '84780'\n",
      " '26430' '22630' '19000' '17710' '61832' '86720' '32060' '66000' '69300'\n",
      " '61920' '5888' '2375' '83512' '3336' '70000' '14395' '38740' '34550'\n",
      " '40350' '64650' '24820' '22110' '55745' '3828' '49950' '74119' '59880'\n",
      " '13135' '55770' '2795' '36480' '12940' '5100' '17975' '49080' '62250'\n",
      " '25770' '76940' '21600' '5300' '18388' '33180' '51825' '18350' '30690'\n",
      " '86220' '16014' '59641' '49121' '76135' '1605' '4720' '61530' '69170'\n",
      " '35650' '73168' '48342' '70550' '11800' '80070' '72600']\n",
      "communityname : ['Lakewoodcity' 'Tukwilacity' 'Aberdeentown' ... 'Waterburytown'\n",
      " 'Walthamcity' 'Ontariocity']\n",
      "OtherPerCap : ['0.36' '0.22' '0.28' '0.51' '0.48' '0.24' '0.18' '0.29' '0.17' '0.34'\n",
      " '0.35' '0.13' '0.33' '0.2' '1' '0.72' '0' '0.19' '0.3' '0.38' '0.14'\n",
      " '0.26' '0.64' '0.25' '0.37' '0.16' '0.15' '0.76' '0.4' '0.42' '0.23'\n",
      " '0.31' '0.32' '0.5' '0.66' '0.21' '0.7' '0.27' '0.11' '0.55' '0.95'\n",
      " '0.03' '0.45' '0.08' '0.43' '0.62' '0.02' '0.41' '?' '0.39' '0.88' '0.71'\n",
      " '0.44' '0.47' '0.09' '0.53' '0.1' '0.46' '0.05' '0.52' '0.75' '0.06'\n",
      " '0.93' '0.12' '0.77' '0.69' '0.86' '0.73' '0.67' '0.84' '0.81' '0.54'\n",
      " '0.59' '0.01' '0.68' '0.98' '0.04' '0.61' '0.9' '0.57' '0.49' '0.56'\n",
      " '0.07' '0.92' '0.6' '0.94' '0.63' '0.87' '0.79' '0.99' '0.58' '0.83'\n",
      " '0.85' '0.8' '0.82' '0.74' '0.65' '0.89']\n",
      "LemasSwornFT : ['0.03' '?' '0.06' '0.25' '0.01' '0.02' '0.04' '0.2' '0.05' '0.07' '0.1'\n",
      " '0.15' '0.12' '0.19' '0.13' '0.11' '0.14' '0.41' '0.63' '0' '0.16' '0.24'\n",
      " '0.3' '0.08' '1' '0.09' '0.45' '0.58' '0.38' '0.34' '0.54' '0.42' '0.17'\n",
      " '0.28' '0.22' '0.18' '0.29' '0.21' '0.39']\n",
      "LemasSwFTPerPop : ['0.13' '?' '0.3' '0.08' '0.16' '0.11' '0.19' '0.17' '0.2' '0.39' '0.28'\n",
      " '0.14' '0.21' '0.15' '0.18' '0.25' '1' '0.22' '0.41' '0.07' '0.06' '0.09'\n",
      " '0.12' '0.32' '0' '0.26' '0.31' '0.05' '0.38' '0.1' '0.27' '0.29' '0.4'\n",
      " '0.64' '0.02' '0.23' '0.35' '0.55' '0.43' '0.37' '0.24' '0.68' '0.33'\n",
      " '0.72' '0.67' '0.98' '0.85' '0.04' '0.5' '0.34' '0.83' '0.03' '0.42']\n",
      "LemasSwFTFieldOps : ['0.96' '?' '0.93' '0.75' '0.98' '0.97' '0.95' '0.85' '0.94' '0.91' '0.89'\n",
      " '0.83' '0.92' '0.86' '0.87' '0.63' '0.37' '0.99' '0.67' '0' '0.9' '0.53'\n",
      " '0.49' '0.8' '0.64' '0.84' '0.61' '0.72' '0.55' '0.81' '1' '0.88' '0.73'\n",
      " '0.76' '0.82']\n",
      "LemasSwFTFieldPerPop : ['0.17' '?' '0.38' '0.12' '0.19' '0.14' '0.23' '0.2' '0.25' '0.33' '0.21'\n",
      " '0.31' '0.22' '0.18' '0.32' '0.27' '0.16' '0.24' '1' '0.26' '0.28' '0.42'\n",
      " '0.04' '0.08' '0.13' '0.01' '0.03' '0.48' '0.1' '0.11' '0.3' '0.47'\n",
      " '0.34' '0.51' '0.29' '0.4' '0.57' '0.15' '0.45' '0.43' '0.46' '0.36'\n",
      " '0.37' '0.63' '0.8' '0.88' '0.39' '0.86' '0.56' '0.06' '0' '0.41' '0.44'\n",
      " '0.65' '0.55' '0.49']\n",
      "LemasTotalReq : ['0.06' '?' '0.05' '0.35' '0.03' '0.04' '0.02' '0.01' '0.29' '0.07' '0.26'\n",
      " '0.08' '0.1' '0.28' '0.18' '0.45' '0.31' '0.17' '0.23' '0.13' '0.16'\n",
      " '0.74' '0.15' '0.63' '0.09' '1' '0' '0.2' '0.11' '0.78' '0.12' '0.32'\n",
      " '0.52' '0.44' '0.33' '0.58' '0.42' '0.14' '0.24' '0.49' '0.4' '0.43'\n",
      " '0.3' '0.5' '0.66']\n",
      "LemasTotReqPerPop : ['0.18' '?' '0.21' '0.11' '0.19' '0.14' '0.17' '0.13' '0.2' '0.05' '0.15'\n",
      " '0.12' '0.08' '0.45' '0.31' '0.09' '0.22' '0.23' '0.25' '0.3' '1' '0.36'\n",
      " '0.4' '0.46' '0.02' '0.1' '0.38' '0' '0.26' '0.84' '0.27' '0.43' '0.06'\n",
      " '0.32' '0.39' '0.24' '0.29' '0.61' '0.28' '0.37' '0.53' '0.69' '0.07'\n",
      " '0.48' '0.72' '0.34' '0.77' '0.52' '0.6' '0.42' '0.16' '0.58' '0.54'\n",
      " '0.49' '0.47' '0.41' '0.35' '0.04' '0.03' '0.51']\n",
      "PolicReqPerOffic : ['0.44' '?' '0.23' '0.35' '0.38' '0.37' '0.29' '0.25' '0.31' '0.02' '0.41'\n",
      " '0.08' '0.4' '1' '0.12' '0.33' '0.11' '0.21' '0.66' '0.2' '0.22' '0.47'\n",
      " '0.55' '0.56' '0.18' '0.3' '0.46' '0.49' '0.64' '0.27' '0.26' '0.09'\n",
      " '0.67' '0.19' '0.34' '0.24' '0.51' '0.45' '0.95' '0.1' '0.65' '0.43'\n",
      " '0.78' '0.54' '0.61' '0.52' '0.58' '0.32' '0.57' '0.36' '0.14' '0.28'\n",
      " '0.74' '0.15' '0.39' '0.75' '0.16' '0.62' '0.13' '0.63' '0.7' '0.42'\n",
      " '0.17' '0.05' '0' '0.48' '0.5' '0.9' '0.81' '0.84' '0.07' '0.06' '0.68'\n",
      " '0.99' '0.87' '0.86']\n",
      "PolicPerPop : ['0.13' '?' '0.3' '0.08' '0.16' '0.11' '0.19' '0.17' '0.2' '0.39' '0.28'\n",
      " '0.14' '0.21' '0.15' '0.18' '0.25' '1' '0.22' '0.41' '0.07' '0.06' '0.09'\n",
      " '0.12' '0.32' '0' '0.26' '0.31' '0.05' '0.38' '0.1' '0.27' '0.29' '0.4'\n",
      " '0.64' '0.02' '0.23' '0.35' '0.55' '0.43' '0.37' '0.24' '0.68' '0.33'\n",
      " '0.72' '0.67' '0.98' '0.85' '0.04' '0.5' '0.34' '0.83' '0.03' '0.42']\n",
      "RacialMatchCommPol : ['0.94' '?' '0.61' '0.8' '0.82' '0.84' '0.86' '0.9' '0.87' '0.76' '0.53'\n",
      " '0.36' '0.98' '0.29' '0.99' '0.75' '0.65' '0.79' '0.81' '0.95' '0.78'\n",
      " '0.62' '0' '0.74' '0.48' '0.51' '0.7' '0.55' '0.17' '0.57' '0.89' '0.52'\n",
      " '0.58' '0.45' '0.63' '0.28' '0.54' '0.69' '0.46' '0.88' '0.32' '0.39'\n",
      " '0.83' '1' '0.56' '0.77' '0.93' '0.92' '0.91' '0.97' '0.34' '0.73' '0.85'\n",
      " '0.24' '0.96' '0.67' '0.41' '0.11' '0.35' '0.12' '0.5' '0.22' '0.43'\n",
      " '0.66' '0.72' '0.71' '0.6' '0.09' '0.49' '0.42' '0.33' '0.31' '0.68'\n",
      " '0.64' '0.4' '0.37' '0.27']\n",
      "PctPolicWhite : ['0.93' '?' '0.89' '0.82' '0.7' '0.96' '0.85' '0.87' '0.61' '0.91' '0.9'\n",
      " '0.84' '0.72' '0.68' '0.88' '0.95' '0.97' '0.98' '0.79' '0.78' '0.44'\n",
      " '0.54' '0.65' '0.76' '0.53' '0.46' '0.83' '0.51' '0.99' '0.67' '0.48'\n",
      " '0.86' '0.69' '0.56' '0.21' '0.63' '0.94' '0.43' '0.75' '0' '0.47' '0.92'\n",
      " '0.16' '0.6' '0.32' '0.41' '0.77' '0.36' '0.66' '0.62' '0.81' '1' '0.4'\n",
      " '0.27' '0.33' '0.52' '0.8' '0.73' '0.59' '0.58' '0.74' '0.64' '0.5' '0.1'\n",
      " '0.71' '0.55' '0.3' '0.35' '0.29' '0.37' '0.49' '0.06' '0.28' '0.23'\n",
      " '0.57']\n",
      "PctPolicBlack : ['0.03' '?' '0.15' '0.04' '0.45' '0' '0.24' '0.1' '0.13' '0.2' '0.02'\n",
      " '0.14' '0.11' '0.38' '0.06' '0.16' '0.08' '0.51' '0.01' '0.54' '0.19'\n",
      " '0.07' '0.68' '0.48' '0.18' '0.41' '0.78' '0.12' '0.52' '0.44' '0.34'\n",
      " '0.3' '0.66' '1' '0.05' '0.42' '0.91' '0.53' '0.67' '0.28' '0.43' '0.25'\n",
      " '0.33' '0.71' '0.36' '0.99' '0.63' '0.22' '0.59' '0.39' '0.75' '0.31'\n",
      " '0.49' '0.46' '0.29' '0.09' '0.7' '0.47' '0.27' '0.62' '0.87' '0.17'\n",
      " '0.64' '0.23' '0.86' '0.94' '0.5' '0.81' '0.55' '0.77' '0.26' '0.37'\n",
      " '0.8' '0.4']\n",
      "PctPolicHisp : ['0.07' '?' '0.01' '0.19' '0.03' '0' '0.38' '0.23' '0.14' '0.52' '0.09'\n",
      " '0.06' '0.02' '0.16' '0.15' '0.53' '0.29' '0.43' '0.04' '0.32' '0.4'\n",
      " '0.47' '0.05' '0.24' '0.27' '0.22' '1' '0.12' '0.34' '0.28' '0.42' '0.08'\n",
      " '0.83' '0.39' '0.21' '0.9' '0.11' '0.57' '0.55' '0.31' '0.18' '0.17'\n",
      " '0.36' '0.13' '0.33' '0.3' '0.1' '0.46' '0.2' '0.67' '0.65' '0.44' '0.26'\n",
      " '0.54' '0.25']\n",
      "PctPolicAsian : ['0.1' '?' '0.06' '0.19' '0.05' '0' '0.27' '0.26' '0.09' '0.04' '0.17'\n",
      " '0.13' '0.12' '0.37' '0.72' '0.35' '0.51' '0.08' '0.14' '0.38' '0.29'\n",
      " '0.74' '0.49' '0.81' '0.4' '1' '0.23' '0.07' '0.11' '0.16' '0.52' '0.15'\n",
      " '0.8' '0.3' '0.18' '0.59' '0.22' '0.98' '0.69' '0.03' '0.01' '0.32'\n",
      " '0.21' '0.48' '0.39' '0.31' '0.75' '0.56' '0.93' '0.67' '0.6']\n",
      "PctPolicMinor : ['0.07' '?' '0.12' '0.18' '0.33' '0' '0.17' '0.11' '0.41' '0.09' '0.1'\n",
      " '0.31' '0.35' '0.13' '0.05' '0.03' '0.01' '0.21' '0.42' '0.15' '0.61'\n",
      " '0.48' '0.02' '0.39' '0.16' '0.26' '0.52' '0.6' '0.19' '0.04' '0.22'\n",
      " '0.29' '0.54' '0.36' '0.37' '0.23' '0.24' '0.34' '0.88' '0.27' '0.3'\n",
      " '0.63' '0.28' '1' '0.4' '0.5' '0.38' '0.93' '0.44' '0.08' '0.49' '0.25'\n",
      " '0.65' '0.2' '0.66' '0.81' '0.72' '0.53' '0.14' '0.46' '0.06' '0.55'\n",
      " '0.32' '0.69' '0.78' '0.71' '0.7' '0.79' '0.56' '0.43' '0.76' '0.67'\n",
      " '0.47']\n",
      "OfficAssgnDrugUnits : ['0.02' '?' '0.1' '0.05' '0.13' '0.03' '0.07' '0.04' '0.08' '0.11' '0'\n",
      " '0.01' '0.15' '0.18' '0.12' '0.06' '0.16' '0.37' '0.19' '1' '0.26' '0.33'\n",
      " '0.17' '0.22' '0.73' '0.09' '0.49' '0.14' '0.44' '0.45' '0.4']\n",
      "NumKindsDrugsSeiz : ['0.57' '?' '0.64' '0.86' '0.5' '0.29' '0.79' '0.21' '0.07' '0' '0.43'\n",
      " '0.93' '0.36' '0.71' '0.14' '1']\n",
      "PolicAveOTWorked : ['0.29' '?' '0.22' '0.36' '1' '0.1' '0.78' '0.16' '0.38' '0.34' '0.31'\n",
      " '0.3' '0.33' '0.49' '0.48' '0.5' '0.09' '0.14' '0' '0.17' '0.05' '0.39'\n",
      " '0.27' '0.65' '0.99' '0.02' '0.15' '0.06' '0.24' '0.76' '0.18' '0.43'\n",
      " '0.19' '0.07' '0.2' '0.72' '0.12' '0.26' '0.55' '0.35' '0.59' '0.37'\n",
      " '0.67' '0.57' '0.54' '0.32' '0.11' '0.08' '0.74' '0.23' '0.21' '0.25'\n",
      " '0.28' '0.63' '0.84' '0.92' '0.13' '0.75' '0.04' '0.41' '0.4' '0.66'\n",
      " '0.44' '0.9' '0.51' '0.47' '0.42' '0.62' '0.45' '0.86' '0.79' '0.6'\n",
      " '0.52' '0.58' '0.03' '0.01' '0.46' '0.97']\n",
      "PolicCars : ['0.06' '?' '0.09' '1' '0.04' '0.05' '0.03' '0.41' '0.07' '0.25' '0'\n",
      " '0.02' '0.18' '0.21' '0.1' '0.01' '0.22' '0.11' '0.55' '0.08' '0.47'\n",
      " '0.16' '0.29' '0.14' '0.43' '0.15' '0.28' '0.2' '0.62' '0.36' '0.37'\n",
      " '0.67' '0.12' '0.27' '0.3' '0.58' '0.35' '0.71' '0.23' '0.17' '0.26'\n",
      " '0.82' '0.51' '0.92' '0.24' '0.13' '0.32' '0.19' '0.49' '0.38' '0.61'\n",
      " '0.65' '0.73' '0.89' '0.72' '0.64' '0.31' '0.68' '0.4' '0.44' '0.98'\n",
      " '0.53' '0.69' '0.45']\n",
      "PolicOperBudg : ['0.04' '?' '0.06' '0.05' '0.35' '0.01' '0.02' '0.28' '0.03' '0.09' '0.14'\n",
      " '0.08' '0.15' '0.07' '0.12' '0' '0.19' '0.1' '0.13' '0.38' '0.58' '0.17'\n",
      " '0.34' '1' '0.41' '0.52' '0.72' '0.3' '0.64' '0.2' '0.26' '0.18' '0.47'\n",
      " '0.36' '0.24' '0.27' '0.32' '0.16' '0.62']\n",
      "LemasPctPolicOnPatr : ['0.9' '?' '0.91' '0.88' '0.73' '0.81' '0.75' '0.74' '0.84' '0.19' '0.79'\n",
      " '0.94' '0.64' '0.7' '0.78' '0.92' '0.69' '0.8' '0.58' '0.76' '0.68'\n",
      " '0.42' '0.86' '0.62' '0.51' '0.82' '0.49' '0' '0.54' '0.93' '0.87' '0.66'\n",
      " '0.71' '0.36' '0.67' '0.89' '0.57' '0.96' '0.83' '0.97' '0.38' '0.1'\n",
      " '0.6' '0.98' '0.55' '0.72' '0.77' '0.85' '0.56' '0.5' '1' '0.61' '0.35'\n",
      " '0.99' '0.65' '0.25' '0.63' '0.28' '0.22' '0.59' '0.46' '0.15' '0.48'\n",
      " '0.24' '0.01' '0.44' '0.45' '0.09' '0.34' '0.41' '0.07' '0.13' '0.39']\n",
      "LemasGangUnitDeploy : ['0.5' '?' '0' '1']\n",
      "PolicBudgPerPop : ['0.14' '?' '0.26' '0.13' '0.21' '0.09' '0.1' '0.07' '0.11' '0.51' '0.12'\n",
      " '0.23' '0.15' '0.34' '0.27' '0.08' '0.22' '0.28' '1' '0.18' '0.2' '0.04'\n",
      " '0.36' '0.24' '0.02' '0.19' '0.16' '0' '0.01' '0.69' '0.06' '0.25' '0.82'\n",
      " '0.17' '0.33' '0.32' '0.29' '0.71' '0.05' '0.31' '0.54' '0.52' '0.56'\n",
      " '0.03' '0.73' '0.35' '0.3' '0.44' '0.99' '0.48' '0.76' '0.4']\n"
     ]
    }
   ],
   "source": [
    "#let's drop county as it is redundant\n",
    "crime_data.drop('county', axis=1, inplace=True)\n",
    "crime_column_names.remove('county')\n",
    "#need to remap indices\n",
    "crime_cat_columns = dict()\n",
    "crime_cat_columns_idx = dict()\n",
    "crime_num_columns_idx = []\n",
    "for col in crime_column_names:\n",
    "    if crime_data[col].dtype == 'object':\n",
    "        crime_cat_columns[col] = crime_data[col].unique()\n",
    "        crime_cat_columns_idx[col] = crime_data.columns.get_loc(col)\n",
    "        print(col, \":\", crime_cat_columns[col])\n",
    "    elif np.issubdtype(crime_data.at[0, col], np.number):\n",
    "        crime_num_columns_idx.append(crime_data.columns.get_loc(col))"
   ],
   "metadata": {
    "collapsed": false
   }
  },
  {
   "cell_type": "markdown",
   "source": [
    "## Handling missing data"
   ],
   "metadata": {
    "collapsed": false
   }
  },
  {
   "cell_type": "code",
   "execution_count": 11,
   "outputs": [
    {
     "data": {
      "text/plain": "      state community        communityname  fold  population  householdsize  \\\n0         8       NaN         Lakewoodcity     1        0.19           0.33   \n1        53       NaN          Tukwilacity     1        0.00           0.16   \n2        24       NaN         Aberdeentown     1        0.00           0.42   \n3        34     81440  Willingborotownship     1        0.04           0.77   \n4        42      6096    Bethlehemtownship     1        0.01           0.55   \n...     ...       ...                  ...   ...         ...            ...   \n1989     12       NaN    TempleTerracecity    10        0.01           0.40   \n1990      6       NaN          Seasidecity    10        0.05           0.96   \n1991      9     80070        Waterburytown    10        0.16           0.37   \n1992     25     72600          Walthamcity    10        0.08           0.51   \n1993      6       NaN          Ontariocity    10        0.20           0.78   \n\n      racepctblack  racePctWhite  racePctAsian  racePctHisp  ...  LandArea  \\\n0             0.02          0.90          0.12         0.17  ...      0.12   \n1             0.12          0.74          0.45         0.07  ...      0.02   \n2             0.49          0.56          0.17         0.04  ...      0.01   \n3             1.00          0.08          0.12         0.10  ...      0.02   \n4             0.02          0.95          0.09         0.05  ...      0.04   \n...            ...           ...           ...          ...  ...       ...   \n1989          0.10          0.87          0.12         0.16  ...      0.01   \n1990          0.46          0.28          0.83         0.32  ...      0.02   \n1991          0.25          0.69          0.04         0.25  ...      0.08   \n1992          0.06          0.87          0.22         0.10  ...      0.03   \n1993          0.14          0.46          0.24         0.77  ...      0.11   \n\n      PopDens  PctUsePubTrans  PolicCars  PolicOperBudg  LemasPctPolicOnPatr  \\\n0        0.26            0.20       0.06           0.04                  0.9   \n1        0.12            0.45        NaN            NaN                  NaN   \n2        0.21            0.02        NaN            NaN                  NaN   \n3        0.39            0.28        NaN            NaN                  NaN   \n4        0.09            0.02        NaN            NaN                  NaN   \n...       ...             ...        ...            ...                  ...   \n1989     0.28            0.05        NaN            NaN                  NaN   \n1990     0.37            0.20        NaN            NaN                  NaN   \n1991     0.32            0.18       0.08           0.06                 0.78   \n1992     0.38            0.33       0.02           0.02                 0.79   \n1993     0.30            0.05       0.08           0.04                 0.73   \n\n      LemasGangUnitDeploy  LemasPctOfficDrugUn  PolicBudgPerPop  \\\n0                     0.5                 0.32             0.14   \n1                     NaN                 0.00              NaN   \n2                     NaN                 0.00              NaN   \n3                     NaN                 0.00              NaN   \n4                     NaN                 0.00              NaN   \n...                   ...                  ...              ...   \n1989                  NaN                 0.00              NaN   \n1990                  NaN                 0.00              NaN   \n1991                    0                 0.91             0.28   \n1992                    0                 0.22             0.18   \n1993                  0.5                 1.00             0.13   \n\n      ViolentCrimesPerPop  \n0                    0.20  \n1                    0.67  \n2                    0.43  \n3                    0.12  \n4                    0.03  \n...                   ...  \n1989                 0.09  \n1990                 0.45  \n1991                 0.23  \n1992                 0.19  \n1993                 0.48  \n\n[1994 rows x 127 columns]",
      "text/html": "<div>\n<style scoped>\n    .dataframe tbody tr th:only-of-type {\n        vertical-align: middle;\n    }\n\n    .dataframe tbody tr th {\n        vertical-align: top;\n    }\n\n    .dataframe thead th {\n        text-align: right;\n    }\n</style>\n<table border=\"1\" class=\"dataframe\">\n  <thead>\n    <tr style=\"text-align: right;\">\n      <th></th>\n      <th>state</th>\n      <th>community</th>\n      <th>communityname</th>\n      <th>fold</th>\n      <th>population</th>\n      <th>householdsize</th>\n      <th>racepctblack</th>\n      <th>racePctWhite</th>\n      <th>racePctAsian</th>\n      <th>racePctHisp</th>\n      <th>...</th>\n      <th>LandArea</th>\n      <th>PopDens</th>\n      <th>PctUsePubTrans</th>\n      <th>PolicCars</th>\n      <th>PolicOperBudg</th>\n      <th>LemasPctPolicOnPatr</th>\n      <th>LemasGangUnitDeploy</th>\n      <th>LemasPctOfficDrugUn</th>\n      <th>PolicBudgPerPop</th>\n      <th>ViolentCrimesPerPop</th>\n    </tr>\n  </thead>\n  <tbody>\n    <tr>\n      <th>0</th>\n      <td>8</td>\n      <td>NaN</td>\n      <td>Lakewoodcity</td>\n      <td>1</td>\n      <td>0.19</td>\n      <td>0.33</td>\n      <td>0.02</td>\n      <td>0.90</td>\n      <td>0.12</td>\n      <td>0.17</td>\n      <td>...</td>\n      <td>0.12</td>\n      <td>0.26</td>\n      <td>0.20</td>\n      <td>0.06</td>\n      <td>0.04</td>\n      <td>0.9</td>\n      <td>0.5</td>\n      <td>0.32</td>\n      <td>0.14</td>\n      <td>0.20</td>\n    </tr>\n    <tr>\n      <th>1</th>\n      <td>53</td>\n      <td>NaN</td>\n      <td>Tukwilacity</td>\n      <td>1</td>\n      <td>0.00</td>\n      <td>0.16</td>\n      <td>0.12</td>\n      <td>0.74</td>\n      <td>0.45</td>\n      <td>0.07</td>\n      <td>...</td>\n      <td>0.02</td>\n      <td>0.12</td>\n      <td>0.45</td>\n      <td>NaN</td>\n      <td>NaN</td>\n      <td>NaN</td>\n      <td>NaN</td>\n      <td>0.00</td>\n      <td>NaN</td>\n      <td>0.67</td>\n    </tr>\n    <tr>\n      <th>2</th>\n      <td>24</td>\n      <td>NaN</td>\n      <td>Aberdeentown</td>\n      <td>1</td>\n      <td>0.00</td>\n      <td>0.42</td>\n      <td>0.49</td>\n      <td>0.56</td>\n      <td>0.17</td>\n      <td>0.04</td>\n      <td>...</td>\n      <td>0.01</td>\n      <td>0.21</td>\n      <td>0.02</td>\n      <td>NaN</td>\n      <td>NaN</td>\n      <td>NaN</td>\n      <td>NaN</td>\n      <td>0.00</td>\n      <td>NaN</td>\n      <td>0.43</td>\n    </tr>\n    <tr>\n      <th>3</th>\n      <td>34</td>\n      <td>81440</td>\n      <td>Willingborotownship</td>\n      <td>1</td>\n      <td>0.04</td>\n      <td>0.77</td>\n      <td>1.00</td>\n      <td>0.08</td>\n      <td>0.12</td>\n      <td>0.10</td>\n      <td>...</td>\n      <td>0.02</td>\n      <td>0.39</td>\n      <td>0.28</td>\n      <td>NaN</td>\n      <td>NaN</td>\n      <td>NaN</td>\n      <td>NaN</td>\n      <td>0.00</td>\n      <td>NaN</td>\n      <td>0.12</td>\n    </tr>\n    <tr>\n      <th>4</th>\n      <td>42</td>\n      <td>6096</td>\n      <td>Bethlehemtownship</td>\n      <td>1</td>\n      <td>0.01</td>\n      <td>0.55</td>\n      <td>0.02</td>\n      <td>0.95</td>\n      <td>0.09</td>\n      <td>0.05</td>\n      <td>...</td>\n      <td>0.04</td>\n      <td>0.09</td>\n      <td>0.02</td>\n      <td>NaN</td>\n      <td>NaN</td>\n      <td>NaN</td>\n      <td>NaN</td>\n      <td>0.00</td>\n      <td>NaN</td>\n      <td>0.03</td>\n    </tr>\n    <tr>\n      <th>...</th>\n      <td>...</td>\n      <td>...</td>\n      <td>...</td>\n      <td>...</td>\n      <td>...</td>\n      <td>...</td>\n      <td>...</td>\n      <td>...</td>\n      <td>...</td>\n      <td>...</td>\n      <td>...</td>\n      <td>...</td>\n      <td>...</td>\n      <td>...</td>\n      <td>...</td>\n      <td>...</td>\n      <td>...</td>\n      <td>...</td>\n      <td>...</td>\n      <td>...</td>\n      <td>...</td>\n    </tr>\n    <tr>\n      <th>1989</th>\n      <td>12</td>\n      <td>NaN</td>\n      <td>TempleTerracecity</td>\n      <td>10</td>\n      <td>0.01</td>\n      <td>0.40</td>\n      <td>0.10</td>\n      <td>0.87</td>\n      <td>0.12</td>\n      <td>0.16</td>\n      <td>...</td>\n      <td>0.01</td>\n      <td>0.28</td>\n      <td>0.05</td>\n      <td>NaN</td>\n      <td>NaN</td>\n      <td>NaN</td>\n      <td>NaN</td>\n      <td>0.00</td>\n      <td>NaN</td>\n      <td>0.09</td>\n    </tr>\n    <tr>\n      <th>1990</th>\n      <td>6</td>\n      <td>NaN</td>\n      <td>Seasidecity</td>\n      <td>10</td>\n      <td>0.05</td>\n      <td>0.96</td>\n      <td>0.46</td>\n      <td>0.28</td>\n      <td>0.83</td>\n      <td>0.32</td>\n      <td>...</td>\n      <td>0.02</td>\n      <td>0.37</td>\n      <td>0.20</td>\n      <td>NaN</td>\n      <td>NaN</td>\n      <td>NaN</td>\n      <td>NaN</td>\n      <td>0.00</td>\n      <td>NaN</td>\n      <td>0.45</td>\n    </tr>\n    <tr>\n      <th>1991</th>\n      <td>9</td>\n      <td>80070</td>\n      <td>Waterburytown</td>\n      <td>10</td>\n      <td>0.16</td>\n      <td>0.37</td>\n      <td>0.25</td>\n      <td>0.69</td>\n      <td>0.04</td>\n      <td>0.25</td>\n      <td>...</td>\n      <td>0.08</td>\n      <td>0.32</td>\n      <td>0.18</td>\n      <td>0.08</td>\n      <td>0.06</td>\n      <td>0.78</td>\n      <td>0</td>\n      <td>0.91</td>\n      <td>0.28</td>\n      <td>0.23</td>\n    </tr>\n    <tr>\n      <th>1992</th>\n      <td>25</td>\n      <td>72600</td>\n      <td>Walthamcity</td>\n      <td>10</td>\n      <td>0.08</td>\n      <td>0.51</td>\n      <td>0.06</td>\n      <td>0.87</td>\n      <td>0.22</td>\n      <td>0.10</td>\n      <td>...</td>\n      <td>0.03</td>\n      <td>0.38</td>\n      <td>0.33</td>\n      <td>0.02</td>\n      <td>0.02</td>\n      <td>0.79</td>\n      <td>0</td>\n      <td>0.22</td>\n      <td>0.18</td>\n      <td>0.19</td>\n    </tr>\n    <tr>\n      <th>1993</th>\n      <td>6</td>\n      <td>NaN</td>\n      <td>Ontariocity</td>\n      <td>10</td>\n      <td>0.20</td>\n      <td>0.78</td>\n      <td>0.14</td>\n      <td>0.46</td>\n      <td>0.24</td>\n      <td>0.77</td>\n      <td>...</td>\n      <td>0.11</td>\n      <td>0.30</td>\n      <td>0.05</td>\n      <td>0.08</td>\n      <td>0.04</td>\n      <td>0.73</td>\n      <td>0.5</td>\n      <td>1.00</td>\n      <td>0.13</td>\n      <td>0.48</td>\n    </tr>\n  </tbody>\n</table>\n<p>1994 rows × 127 columns</p>\n</div>"
     },
     "execution_count": 11,
     "metadata": {},
     "output_type": "execute_result"
    }
   ],
   "source": [
    "#In order to handle missing data, Replace ? with Nan\n",
    "crime_data.replace('?', np.nan, inplace= True)\n",
    "crime_data"
   ],
   "metadata": {
    "collapsed": false
   }
  },
  {
   "cell_type": "code",
   "execution_count": 12,
   "outputs": [
    {
     "data": {
      "text/plain": "state                     0\ncommunity              1177\ncommunityname             0\nfold                      0\npopulation                0\n                       ... \nLemasPctPolicOnPatr    1675\nLemasGangUnitDeploy    1675\nLemasPctOfficDrugUn       0\nPolicBudgPerPop        1675\nViolentCrimesPerPop       0\nLength: 127, dtype: int64"
     },
     "execution_count": 12,
     "metadata": {},
     "output_type": "execute_result"
    }
   ],
   "source": [
    "crime_data.isnull().sum()"
   ],
   "metadata": {
    "collapsed": false
   }
  },
  {
   "cell_type": "code",
   "execution_count": 14,
   "outputs": [
    {
     "data": {
      "text/plain": "     community OtherPerCap LemasSwornFT LemasSwFTPerPop LemasSwFTFieldOps  \\\n0          NaN        0.36         0.03            0.13              0.96   \n1          NaN        0.22          NaN             NaN               NaN   \n2          NaN        0.28          NaN             NaN               NaN   \n3        81440        0.36          NaN             NaN               NaN   \n4         6096        0.51          NaN             NaN               NaN   \n...        ...         ...          ...             ...               ...   \n1989       NaN        0.36          NaN             NaN               NaN   \n1990       NaN        0.23          NaN             NaN               NaN   \n1991     80070        0.22         0.06             0.3              0.93   \n1992     72600        0.27         0.02            0.25              0.97   \n1993       NaN        0.25         0.03            0.11              0.96   \n\n     LemasSwFTFieldPerPop LemasTotalReq LemasTotReqPerPop PolicReqPerOffic  \\\n0                    0.17          0.06              0.18             0.44   \n1                     NaN           NaN               NaN              NaN   \n2                     NaN           NaN               NaN              NaN   \n3                     NaN           NaN               NaN              NaN   \n4                     NaN           NaN               NaN              NaN   \n...                   ...           ...               ...              ...   \n1989                  NaN           NaN               NaN              NaN   \n1990                  NaN           NaN               NaN              NaN   \n1991                 0.36          0.04              0.17             0.19   \n1992                  0.3          0.01              0.11             0.14   \n1993                 0.14          0.04              0.11              0.3   \n\n     PolicPerPop  ... PctPolicAsian PctPolicMinor OfficAssgnDrugUnits  \\\n0           0.13  ...           0.1          0.07                0.02   \n1            NaN  ...           NaN           NaN                 NaN   \n2            NaN  ...           NaN           NaN                 NaN   \n3            NaN  ...           NaN           NaN                 NaN   \n4            NaN  ...           NaN           NaN                 NaN   \n...          ...  ...           ...           ...                 ...   \n1989         NaN  ...           NaN           NaN                 NaN   \n1990         NaN  ...           NaN           NaN                 NaN   \n1991         0.3  ...             0          0.34                 0.1   \n1992        0.25  ...             0          0.09                0.01   \n1993        0.11  ...             0          0.28                0.07   \n\n     NumKindsDrugsSeiz PolicAveOTWorked PolicCars PolicOperBudg  \\\n0                 0.57             0.29      0.06          0.04   \n1                  NaN              NaN       NaN           NaN   \n2                  NaN              NaN       NaN           NaN   \n3                  NaN              NaN       NaN           NaN   \n4                  NaN              NaN       NaN           NaN   \n...                ...              ...       ...           ...   \n1989               NaN              NaN       NaN           NaN   \n1990               NaN              NaN       NaN           NaN   \n1991              0.36             0.25      0.08          0.06   \n1992              0.57             0.19      0.02          0.02   \n1993              0.36             0.11      0.08          0.04   \n\n     LemasPctPolicOnPatr LemasGangUnitDeploy PolicBudgPerPop  \n0                    0.9                 0.5            0.14  \n1                    NaN                 NaN             NaN  \n2                    NaN                 NaN             NaN  \n3                    NaN                 NaN             NaN  \n4                    NaN                 NaN             NaN  \n...                  ...                 ...             ...  \n1989                 NaN                 NaN             NaN  \n1990                 NaN                 NaN             NaN  \n1991                0.78                   0            0.28  \n1992                0.79                   0            0.18  \n1993                0.73                 0.5            0.13  \n\n[1994 rows x 24 columns]",
      "text/html": "<div>\n<style scoped>\n    .dataframe tbody tr th:only-of-type {\n        vertical-align: middle;\n    }\n\n    .dataframe tbody tr th {\n        vertical-align: top;\n    }\n\n    .dataframe thead th {\n        text-align: right;\n    }\n</style>\n<table border=\"1\" class=\"dataframe\">\n  <thead>\n    <tr style=\"text-align: right;\">\n      <th></th>\n      <th>community</th>\n      <th>OtherPerCap</th>\n      <th>LemasSwornFT</th>\n      <th>LemasSwFTPerPop</th>\n      <th>LemasSwFTFieldOps</th>\n      <th>LemasSwFTFieldPerPop</th>\n      <th>LemasTotalReq</th>\n      <th>LemasTotReqPerPop</th>\n      <th>PolicReqPerOffic</th>\n      <th>PolicPerPop</th>\n      <th>...</th>\n      <th>PctPolicAsian</th>\n      <th>PctPolicMinor</th>\n      <th>OfficAssgnDrugUnits</th>\n      <th>NumKindsDrugsSeiz</th>\n      <th>PolicAveOTWorked</th>\n      <th>PolicCars</th>\n      <th>PolicOperBudg</th>\n      <th>LemasPctPolicOnPatr</th>\n      <th>LemasGangUnitDeploy</th>\n      <th>PolicBudgPerPop</th>\n    </tr>\n  </thead>\n  <tbody>\n    <tr>\n      <th>0</th>\n      <td>NaN</td>\n      <td>0.36</td>\n      <td>0.03</td>\n      <td>0.13</td>\n      <td>0.96</td>\n      <td>0.17</td>\n      <td>0.06</td>\n      <td>0.18</td>\n      <td>0.44</td>\n      <td>0.13</td>\n      <td>...</td>\n      <td>0.1</td>\n      <td>0.07</td>\n      <td>0.02</td>\n      <td>0.57</td>\n      <td>0.29</td>\n      <td>0.06</td>\n      <td>0.04</td>\n      <td>0.9</td>\n      <td>0.5</td>\n      <td>0.14</td>\n    </tr>\n    <tr>\n      <th>1</th>\n      <td>NaN</td>\n      <td>0.22</td>\n      <td>NaN</td>\n      <td>NaN</td>\n      <td>NaN</td>\n      <td>NaN</td>\n      <td>NaN</td>\n      <td>NaN</td>\n      <td>NaN</td>\n      <td>NaN</td>\n      <td>...</td>\n      <td>NaN</td>\n      <td>NaN</td>\n      <td>NaN</td>\n      <td>NaN</td>\n      <td>NaN</td>\n      <td>NaN</td>\n      <td>NaN</td>\n      <td>NaN</td>\n      <td>NaN</td>\n      <td>NaN</td>\n    </tr>\n    <tr>\n      <th>2</th>\n      <td>NaN</td>\n      <td>0.28</td>\n      <td>NaN</td>\n      <td>NaN</td>\n      <td>NaN</td>\n      <td>NaN</td>\n      <td>NaN</td>\n      <td>NaN</td>\n      <td>NaN</td>\n      <td>NaN</td>\n      <td>...</td>\n      <td>NaN</td>\n      <td>NaN</td>\n      <td>NaN</td>\n      <td>NaN</td>\n      <td>NaN</td>\n      <td>NaN</td>\n      <td>NaN</td>\n      <td>NaN</td>\n      <td>NaN</td>\n      <td>NaN</td>\n    </tr>\n    <tr>\n      <th>3</th>\n      <td>81440</td>\n      <td>0.36</td>\n      <td>NaN</td>\n      <td>NaN</td>\n      <td>NaN</td>\n      <td>NaN</td>\n      <td>NaN</td>\n      <td>NaN</td>\n      <td>NaN</td>\n      <td>NaN</td>\n      <td>...</td>\n      <td>NaN</td>\n      <td>NaN</td>\n      <td>NaN</td>\n      <td>NaN</td>\n      <td>NaN</td>\n      <td>NaN</td>\n      <td>NaN</td>\n      <td>NaN</td>\n      <td>NaN</td>\n      <td>NaN</td>\n    </tr>\n    <tr>\n      <th>4</th>\n      <td>6096</td>\n      <td>0.51</td>\n      <td>NaN</td>\n      <td>NaN</td>\n      <td>NaN</td>\n      <td>NaN</td>\n      <td>NaN</td>\n      <td>NaN</td>\n      <td>NaN</td>\n      <td>NaN</td>\n      <td>...</td>\n      <td>NaN</td>\n      <td>NaN</td>\n      <td>NaN</td>\n      <td>NaN</td>\n      <td>NaN</td>\n      <td>NaN</td>\n      <td>NaN</td>\n      <td>NaN</td>\n      <td>NaN</td>\n      <td>NaN</td>\n    </tr>\n    <tr>\n      <th>...</th>\n      <td>...</td>\n      <td>...</td>\n      <td>...</td>\n      <td>...</td>\n      <td>...</td>\n      <td>...</td>\n      <td>...</td>\n      <td>...</td>\n      <td>...</td>\n      <td>...</td>\n      <td>...</td>\n      <td>...</td>\n      <td>...</td>\n      <td>...</td>\n      <td>...</td>\n      <td>...</td>\n      <td>...</td>\n      <td>...</td>\n      <td>...</td>\n      <td>...</td>\n      <td>...</td>\n    </tr>\n    <tr>\n      <th>1989</th>\n      <td>NaN</td>\n      <td>0.36</td>\n      <td>NaN</td>\n      <td>NaN</td>\n      <td>NaN</td>\n      <td>NaN</td>\n      <td>NaN</td>\n      <td>NaN</td>\n      <td>NaN</td>\n      <td>NaN</td>\n      <td>...</td>\n      <td>NaN</td>\n      <td>NaN</td>\n      <td>NaN</td>\n      <td>NaN</td>\n      <td>NaN</td>\n      <td>NaN</td>\n      <td>NaN</td>\n      <td>NaN</td>\n      <td>NaN</td>\n      <td>NaN</td>\n    </tr>\n    <tr>\n      <th>1990</th>\n      <td>NaN</td>\n      <td>0.23</td>\n      <td>NaN</td>\n      <td>NaN</td>\n      <td>NaN</td>\n      <td>NaN</td>\n      <td>NaN</td>\n      <td>NaN</td>\n      <td>NaN</td>\n      <td>NaN</td>\n      <td>...</td>\n      <td>NaN</td>\n      <td>NaN</td>\n      <td>NaN</td>\n      <td>NaN</td>\n      <td>NaN</td>\n      <td>NaN</td>\n      <td>NaN</td>\n      <td>NaN</td>\n      <td>NaN</td>\n      <td>NaN</td>\n    </tr>\n    <tr>\n      <th>1991</th>\n      <td>80070</td>\n      <td>0.22</td>\n      <td>0.06</td>\n      <td>0.3</td>\n      <td>0.93</td>\n      <td>0.36</td>\n      <td>0.04</td>\n      <td>0.17</td>\n      <td>0.19</td>\n      <td>0.3</td>\n      <td>...</td>\n      <td>0</td>\n      <td>0.34</td>\n      <td>0.1</td>\n      <td>0.36</td>\n      <td>0.25</td>\n      <td>0.08</td>\n      <td>0.06</td>\n      <td>0.78</td>\n      <td>0</td>\n      <td>0.28</td>\n    </tr>\n    <tr>\n      <th>1992</th>\n      <td>72600</td>\n      <td>0.27</td>\n      <td>0.02</td>\n      <td>0.25</td>\n      <td>0.97</td>\n      <td>0.3</td>\n      <td>0.01</td>\n      <td>0.11</td>\n      <td>0.14</td>\n      <td>0.25</td>\n      <td>...</td>\n      <td>0</td>\n      <td>0.09</td>\n      <td>0.01</td>\n      <td>0.57</td>\n      <td>0.19</td>\n      <td>0.02</td>\n      <td>0.02</td>\n      <td>0.79</td>\n      <td>0</td>\n      <td>0.18</td>\n    </tr>\n    <tr>\n      <th>1993</th>\n      <td>NaN</td>\n      <td>0.25</td>\n      <td>0.03</td>\n      <td>0.11</td>\n      <td>0.96</td>\n      <td>0.14</td>\n      <td>0.04</td>\n      <td>0.11</td>\n      <td>0.3</td>\n      <td>0.11</td>\n      <td>...</td>\n      <td>0</td>\n      <td>0.28</td>\n      <td>0.07</td>\n      <td>0.36</td>\n      <td>0.11</td>\n      <td>0.08</td>\n      <td>0.04</td>\n      <td>0.73</td>\n      <td>0.5</td>\n      <td>0.13</td>\n    </tr>\n  </tbody>\n</table>\n<p>1994 rows × 24 columns</p>\n</div>"
     },
     "execution_count": 14,
     "metadata": {},
     "output_type": "execute_result"
    }
   ],
   "source": [
    "crime_data[crime_data.columns[crime_data.isnull().any()]]"
   ],
   "metadata": {
    "collapsed": false
   }
  },
  {
   "cell_type": "code",
   "execution_count": 15,
   "outputs": [
    {
     "name": "stderr",
     "output_type": "stream",
     "text": [
      "C:\\Users\\tanzi\\AppData\\Local\\Temp\\ipykernel_53912\\3705086494.py:2: FutureWarning: The default value of numeric_only in DataFrame.median is deprecated. In a future version, it will default to False. In addition, specifying 'numeric_only=None' is deprecated. Select only valid columns or specify the value of numeric_only to silence this warning.\n",
      "  crime_data.fillna(crime_data.median(),inplace=True)\n"
     ]
    },
    {
     "data": {
      "text/plain": "      state community        communityname  fold  population  householdsize  \\\n0         8   48090.0         Lakewoodcity     1        0.19           0.33   \n1        53   48090.0          Tukwilacity     1        0.00           0.16   \n2        24   48090.0         Aberdeentown     1        0.00           0.42   \n3        34     81440  Willingborotownship     1        0.04           0.77   \n4        42      6096    Bethlehemtownship     1        0.01           0.55   \n...     ...       ...                  ...   ...         ...            ...   \n1989     12   48090.0    TempleTerracecity    10        0.01           0.40   \n1990      6   48090.0          Seasidecity    10        0.05           0.96   \n1991      9     80070        Waterburytown    10        0.16           0.37   \n1992     25     72600          Walthamcity    10        0.08           0.51   \n1993      6   48090.0          Ontariocity    10        0.20           0.78   \n\n      racepctblack  racePctWhite  racePctAsian  racePctHisp  ...  LandArea  \\\n0             0.02          0.90          0.12         0.17  ...      0.12   \n1             0.12          0.74          0.45         0.07  ...      0.02   \n2             0.49          0.56          0.17         0.04  ...      0.01   \n3             1.00          0.08          0.12         0.10  ...      0.02   \n4             0.02          0.95          0.09         0.05  ...      0.04   \n...            ...           ...           ...          ...  ...       ...   \n1989          0.10          0.87          0.12         0.16  ...      0.01   \n1990          0.46          0.28          0.83         0.32  ...      0.02   \n1991          0.25          0.69          0.04         0.25  ...      0.08   \n1992          0.06          0.87          0.22         0.10  ...      0.03   \n1993          0.14          0.46          0.24         0.77  ...      0.11   \n\n      PopDens  PctUsePubTrans  PolicCars  PolicOperBudg  LemasPctPolicOnPatr  \\\n0        0.26            0.20       0.06           0.04                  0.9   \n1        0.12            0.45       0.08           0.03                 0.75   \n2        0.21            0.02       0.08           0.03                 0.75   \n3        0.39            0.28       0.08           0.03                 0.75   \n4        0.09            0.02       0.08           0.03                 0.75   \n...       ...             ...        ...            ...                  ...   \n1989     0.28            0.05       0.08           0.03                 0.75   \n1990     0.37            0.20       0.08           0.03                 0.75   \n1991     0.32            0.18       0.08           0.06                 0.78   \n1992     0.38            0.33       0.02           0.02                 0.79   \n1993     0.30            0.05       0.08           0.04                 0.73   \n\n      LemasGangUnitDeploy  LemasPctOfficDrugUn  PolicBudgPerPop  \\\n0                     0.5                 0.32             0.14   \n1                     0.5                 0.00             0.15   \n2                     0.5                 0.00             0.15   \n3                     0.5                 0.00             0.15   \n4                     0.5                 0.00             0.15   \n...                   ...                  ...              ...   \n1989                  0.5                 0.00             0.15   \n1990                  0.5                 0.00             0.15   \n1991                    0                 0.91             0.28   \n1992                    0                 0.22             0.18   \n1993                  0.5                 1.00             0.13   \n\n      ViolentCrimesPerPop  \n0                    0.20  \n1                    0.67  \n2                    0.43  \n3                    0.12  \n4                    0.03  \n...                   ...  \n1989                 0.09  \n1990                 0.45  \n1991                 0.23  \n1992                 0.19  \n1993                 0.48  \n\n[1994 rows x 127 columns]",
      "text/html": "<div>\n<style scoped>\n    .dataframe tbody tr th:only-of-type {\n        vertical-align: middle;\n    }\n\n    .dataframe tbody tr th {\n        vertical-align: top;\n    }\n\n    .dataframe thead th {\n        text-align: right;\n    }\n</style>\n<table border=\"1\" class=\"dataframe\">\n  <thead>\n    <tr style=\"text-align: right;\">\n      <th></th>\n      <th>state</th>\n      <th>community</th>\n      <th>communityname</th>\n      <th>fold</th>\n      <th>population</th>\n      <th>householdsize</th>\n      <th>racepctblack</th>\n      <th>racePctWhite</th>\n      <th>racePctAsian</th>\n      <th>racePctHisp</th>\n      <th>...</th>\n      <th>LandArea</th>\n      <th>PopDens</th>\n      <th>PctUsePubTrans</th>\n      <th>PolicCars</th>\n      <th>PolicOperBudg</th>\n      <th>LemasPctPolicOnPatr</th>\n      <th>LemasGangUnitDeploy</th>\n      <th>LemasPctOfficDrugUn</th>\n      <th>PolicBudgPerPop</th>\n      <th>ViolentCrimesPerPop</th>\n    </tr>\n  </thead>\n  <tbody>\n    <tr>\n      <th>0</th>\n      <td>8</td>\n      <td>48090.0</td>\n      <td>Lakewoodcity</td>\n      <td>1</td>\n      <td>0.19</td>\n      <td>0.33</td>\n      <td>0.02</td>\n      <td>0.90</td>\n      <td>0.12</td>\n      <td>0.17</td>\n      <td>...</td>\n      <td>0.12</td>\n      <td>0.26</td>\n      <td>0.20</td>\n      <td>0.06</td>\n      <td>0.04</td>\n      <td>0.9</td>\n      <td>0.5</td>\n      <td>0.32</td>\n      <td>0.14</td>\n      <td>0.20</td>\n    </tr>\n    <tr>\n      <th>1</th>\n      <td>53</td>\n      <td>48090.0</td>\n      <td>Tukwilacity</td>\n      <td>1</td>\n      <td>0.00</td>\n      <td>0.16</td>\n      <td>0.12</td>\n      <td>0.74</td>\n      <td>0.45</td>\n      <td>0.07</td>\n      <td>...</td>\n      <td>0.02</td>\n      <td>0.12</td>\n      <td>0.45</td>\n      <td>0.08</td>\n      <td>0.03</td>\n      <td>0.75</td>\n      <td>0.5</td>\n      <td>0.00</td>\n      <td>0.15</td>\n      <td>0.67</td>\n    </tr>\n    <tr>\n      <th>2</th>\n      <td>24</td>\n      <td>48090.0</td>\n      <td>Aberdeentown</td>\n      <td>1</td>\n      <td>0.00</td>\n      <td>0.42</td>\n      <td>0.49</td>\n      <td>0.56</td>\n      <td>0.17</td>\n      <td>0.04</td>\n      <td>...</td>\n      <td>0.01</td>\n      <td>0.21</td>\n      <td>0.02</td>\n      <td>0.08</td>\n      <td>0.03</td>\n      <td>0.75</td>\n      <td>0.5</td>\n      <td>0.00</td>\n      <td>0.15</td>\n      <td>0.43</td>\n    </tr>\n    <tr>\n      <th>3</th>\n      <td>34</td>\n      <td>81440</td>\n      <td>Willingborotownship</td>\n      <td>1</td>\n      <td>0.04</td>\n      <td>0.77</td>\n      <td>1.00</td>\n      <td>0.08</td>\n      <td>0.12</td>\n      <td>0.10</td>\n      <td>...</td>\n      <td>0.02</td>\n      <td>0.39</td>\n      <td>0.28</td>\n      <td>0.08</td>\n      <td>0.03</td>\n      <td>0.75</td>\n      <td>0.5</td>\n      <td>0.00</td>\n      <td>0.15</td>\n      <td>0.12</td>\n    </tr>\n    <tr>\n      <th>4</th>\n      <td>42</td>\n      <td>6096</td>\n      <td>Bethlehemtownship</td>\n      <td>1</td>\n      <td>0.01</td>\n      <td>0.55</td>\n      <td>0.02</td>\n      <td>0.95</td>\n      <td>0.09</td>\n      <td>0.05</td>\n      <td>...</td>\n      <td>0.04</td>\n      <td>0.09</td>\n      <td>0.02</td>\n      <td>0.08</td>\n      <td>0.03</td>\n      <td>0.75</td>\n      <td>0.5</td>\n      <td>0.00</td>\n      <td>0.15</td>\n      <td>0.03</td>\n    </tr>\n    <tr>\n      <th>...</th>\n      <td>...</td>\n      <td>...</td>\n      <td>...</td>\n      <td>...</td>\n      <td>...</td>\n      <td>...</td>\n      <td>...</td>\n      <td>...</td>\n      <td>...</td>\n      <td>...</td>\n      <td>...</td>\n      <td>...</td>\n      <td>...</td>\n      <td>...</td>\n      <td>...</td>\n      <td>...</td>\n      <td>...</td>\n      <td>...</td>\n      <td>...</td>\n      <td>...</td>\n      <td>...</td>\n    </tr>\n    <tr>\n      <th>1989</th>\n      <td>12</td>\n      <td>48090.0</td>\n      <td>TempleTerracecity</td>\n      <td>10</td>\n      <td>0.01</td>\n      <td>0.40</td>\n      <td>0.10</td>\n      <td>0.87</td>\n      <td>0.12</td>\n      <td>0.16</td>\n      <td>...</td>\n      <td>0.01</td>\n      <td>0.28</td>\n      <td>0.05</td>\n      <td>0.08</td>\n      <td>0.03</td>\n      <td>0.75</td>\n      <td>0.5</td>\n      <td>0.00</td>\n      <td>0.15</td>\n      <td>0.09</td>\n    </tr>\n    <tr>\n      <th>1990</th>\n      <td>6</td>\n      <td>48090.0</td>\n      <td>Seasidecity</td>\n      <td>10</td>\n      <td>0.05</td>\n      <td>0.96</td>\n      <td>0.46</td>\n      <td>0.28</td>\n      <td>0.83</td>\n      <td>0.32</td>\n      <td>...</td>\n      <td>0.02</td>\n      <td>0.37</td>\n      <td>0.20</td>\n      <td>0.08</td>\n      <td>0.03</td>\n      <td>0.75</td>\n      <td>0.5</td>\n      <td>0.00</td>\n      <td>0.15</td>\n      <td>0.45</td>\n    </tr>\n    <tr>\n      <th>1991</th>\n      <td>9</td>\n      <td>80070</td>\n      <td>Waterburytown</td>\n      <td>10</td>\n      <td>0.16</td>\n      <td>0.37</td>\n      <td>0.25</td>\n      <td>0.69</td>\n      <td>0.04</td>\n      <td>0.25</td>\n      <td>...</td>\n      <td>0.08</td>\n      <td>0.32</td>\n      <td>0.18</td>\n      <td>0.08</td>\n      <td>0.06</td>\n      <td>0.78</td>\n      <td>0</td>\n      <td>0.91</td>\n      <td>0.28</td>\n      <td>0.23</td>\n    </tr>\n    <tr>\n      <th>1992</th>\n      <td>25</td>\n      <td>72600</td>\n      <td>Walthamcity</td>\n      <td>10</td>\n      <td>0.08</td>\n      <td>0.51</td>\n      <td>0.06</td>\n      <td>0.87</td>\n      <td>0.22</td>\n      <td>0.10</td>\n      <td>...</td>\n      <td>0.03</td>\n      <td>0.38</td>\n      <td>0.33</td>\n      <td>0.02</td>\n      <td>0.02</td>\n      <td>0.79</td>\n      <td>0</td>\n      <td>0.22</td>\n      <td>0.18</td>\n      <td>0.19</td>\n    </tr>\n    <tr>\n      <th>1993</th>\n      <td>6</td>\n      <td>48090.0</td>\n      <td>Ontariocity</td>\n      <td>10</td>\n      <td>0.20</td>\n      <td>0.78</td>\n      <td>0.14</td>\n      <td>0.46</td>\n      <td>0.24</td>\n      <td>0.77</td>\n      <td>...</td>\n      <td>0.11</td>\n      <td>0.30</td>\n      <td>0.05</td>\n      <td>0.08</td>\n      <td>0.04</td>\n      <td>0.73</td>\n      <td>0.5</td>\n      <td>1.00</td>\n      <td>0.13</td>\n      <td>0.48</td>\n    </tr>\n  </tbody>\n</table>\n<p>1994 rows × 127 columns</p>\n</div>"
     },
     "execution_count": 15,
     "metadata": {},
     "output_type": "execute_result"
    }
   ],
   "source": [
    "# fillNa values with median imputation\n",
    "crime_data.fillna(crime_data.median(),inplace=True)\n",
    "# #Convert community object into int64\n",
    "# crime_data['community']=crime_data['community'].astype('int64')\n",
    "crime_data"
   ],
   "metadata": {
    "collapsed": false
   }
  },
  {
   "cell_type": "markdown",
   "source": [
    "## Encode the dataset"
   ],
   "metadata": {
    "collapsed": false
   }
  },
  {
   "cell_type": "code",
   "execution_count": null,
   "outputs": [],
   "source": [
    "# Encode the object type in crime_data\n",
    "\n",
    "#\n",
    "X_data_ =\n"
   ],
   "metadata": {
    "collapsed": false
   }
  },
  {
   "cell_type": "code",
   "execution_count": null,
   "outputs": [],
   "source": [
    "from sklearn.model_selection import StratifiedShuffleSplit\n",
    "split_test = StratifiedShuffleSplit(n_splits=1,test_size=0.2, random_state=23508893)\n",
    "for train_index, test_index in split_test.split(X_data_enc, Y_data_enc):\n",
    "    X_train_proj_full = X_data_enc[train_index,:]\n",
    "    X_test_proj = X_data_enc[test_index,:]\n",
    "    Y_train_proj_full = Y_data_enc[train_index]\n",
    "    Y_test_proj = Y_data_enc[test_index]\n",
    "\n",
    "split_validation = StratifiedShuffleSplit(n_splits=1,test_size=0.25, random_state=23508893)\n",
    "for train_index, validation_index in split_validation.split(X_train_proj_full, Y_train_proj_full):\n",
    "    X_train_proj = X_train_proj_full[train_index,:]\n",
    "    X_validation_proj = X_train_proj_full[validation_index,:]\n",
    "    Y_train_proj = Y_train_proj_full[train_index]\n",
    "    Y_validation_proj = Y_train_proj_full[validation_index]\n",
    "\n",
    "#reshape labels for sklearn\n",
    "Y_train_proj_full =  Y_train_proj_full.reshape((Y_train_proj_full.shape[0],))\n",
    "Y_train_proj = Y_train_proj.reshape((Y_train_proj.shape[0],))\n",
    "Y_validation_proj= Y_validation_proj.reshape((Y_validation_proj.shape[0],))\n",
    "Y_test_proj = Y_test_proj.reshape((Y_test_proj.shape[0],))\n"
   ],
   "metadata": {
    "collapsed": false
   }
  },
  {
   "cell_type": "code",
   "execution_count": null,
   "outputs": [],
   "source": [
    "print(\"Dataset\\t\\tPercent\")\n",
    "print(\"Training\\t\" + str(np.sum(crime_train_proj) / len(crime_train_proj)))\n",
    "print(\"Validation\\t\" + str(np.sum(crime_validation_proj) / len(crime_validation_proj)))\n",
    "print(\"Test\\t\\t\" + str(np.sum(crime_test_proj) / len(crime_test_proj)))"
   ],
   "metadata": {
    "collapsed": false
   }
  },
  {
   "cell_type": "code",
   "execution_count": null,
   "id": "bd69db89",
   "metadata": {},
   "outputs": [],
   "source": [
    "#peformance metric functions\n",
    "from sklearn.metrics import mean_absolute_error,mean_squared_error,r2_score\n",
    "import numpy as np\n",
    "\n",
    "#A list of keys for the dictionary returned by p1_metrics\n",
    "metric_keys = ['mse','mae','r2']\n",
    "\n",
    "def p2_metrics(y_true,y_pred,negation=False):\n",
    "    if negation:\n",
    "        sign = -1\n",
    "    else:\n",
    "        sign = 1\n",
    "    return {\n",
    "        'mse': sign*mean_squared_error(y_true,y_pred),\n",
    "        'mae': sign*mean_absolute_error(y_true,y_pred),\n",
    "        'r2': sign*r2_score(y_true,y_pred)}\n",
    "\n",
    "#This wrapper can be used to return multiple performance metrics during cross-validation\n",
    "def p2_metrics_scorer(clf,X,y_true):\n",
    "    y_pred=clf.predict(X)\n",
    "    return p2_metrics(y_true,y_pred,negation=True)"
   ]
  },
  {
   "cell_type": "markdown",
   "id": "2d8c4474",
   "metadata": {},
   "source": [
    "## 2.2 Linear Regression"
   ]
  },
  {
   "cell_type": "markdown",
   "id": "b802a9fb",
   "metadata": {},
   "source": [
    "1. Construct a linear model using Scikit-learn's `LinearRegression` method with default parameters.\n",
    "2. Report the following performance metrics on the **training and validation sets**:\n",
    "    *Mean Squared Error*, *Mean Absolute Error*, and the *Coefficient of Determination ($r^2$)*.\n",
    "    \n",
    "    You can use the function `p2_metrics` for this purpose. Is this model underfitting the data? Is so, why?\n",
    "3. Report the weights (coefficients) of the linear model and their associated features in ascending order.\n",
    "\n",
    "    Larger weights indicate that their corresponding features have more influence in the model. Moreover, negative weights correspond to variables having negative correlation with the response variable, and vice versa.\n",
    "    \n",
    "    Using this interpretation, describe the most significant features and their correlation."
   ]
  },
  {
   "cell_type": "markdown",
   "id": "b0d09ba6",
   "metadata": {},
   "source": [
    "## 2.3 Linear Regression and PCA"
   ]
  },
  {
   "cell_type": "markdown",
   "id": "8a71808a",
   "metadata": {},
   "source": [
    "1. Perform principal component analysis on the **training data**. You may use Scikit-learn's `PCA` function for this, which **automatically centers** the data prior to PCA. Using PCA, *choose the number of components* for which the total explained variance is $\\ge 99\\%$, and report this.\n",
    "2. After determining the correct number of components, apply the PCA transformation to the **validation** and **test** sets.\n",
    "3. Create another model via `LinearRegression` but using the data transformed by PCA\n",
    "Construct a linear model using Scikit-learn's `LinearRegression` method with default parameters.\n",
    "4. Report the same performance metrics as in 2.2 on the **validation set**. How does the model's performance compare to that of the model in 2.2?"
   ]
  },
  {
   "cell_type": "markdown",
   "id": "d09279f2",
   "metadata": {},
   "source": [
    "## 2.4 LASSO"
   ]
  },
  {
   "cell_type": "markdown",
   "id": "68d321fa",
   "metadata": {},
   "source": [
    "Utilizing *cross-validation* you will Construct an $\\ell_1$-regularized linear model using Scikit-learn's `LASSO`:\n",
    "1. Using `GridSearchCV`, determine the best choice of the hyperparameter $\\alpha$ out of values in the list `alphas` below.\n",
    "2. Report the time required to perform cross-validation via `GridSearchCV`. Report the mean and standard deviation of the performance metrics for the best performing model along with its associated hyperparameter. You may use the function `collate_ht_results` for this purpose.\n",
    "3. Report the weights (coefficients) of the LASSO model and their associated features in ascending order. Note that LASSO attempts to set as many weights to zero in order to create a more parsimonious model while still maintaining regression performance. How many weights are non-zero?\n",
    " \n",
    "### Please Read!\n",
    "There are a few parameters for the `GridSearchCV` and `RandomizedSearchCV` functions that should be set:\n",
    "- `scoring` - This controls the strategy to evaluate the performance of the cross-validated model on the test set, set it to `p2_metrics_scorer`.\n",
    "- `refit` - This will refit an estimator using the best found parameters on the whole dataset, set it to `\"mse\"`\n",
    "- `cv` - This will enable you to reuse your CV splits created in Part 2.1\n",
    "    `n_jobs` - Number of jobs to run in parallel, if you have more than one core on your device (you should), set this to as many as you'd like to use, or to `-1` if you want to use all available cores.\n",
    "- `return_train_score` - Setting this to `False` will reduce computational time."
   ]
  },
  {
   "cell_type": "code",
   "execution_count": null,
   "id": "283aac61",
   "metadata": {},
   "outputs": [],
   "source": [
    "alphas = 10**np.linspace(1,-3,50)*0.5"
   ]
  },
  {
   "cell_type": "code",
   "execution_count": null,
   "id": "5d86a5e5",
   "metadata": {},
   "outputs": [],
   "source": [
    "#Summarizes model performance results produced during hyperparameter tuning\n",
    "def collate_ht_results(ht_results,metric_keys=metric_keys,display=True):\n",
    "    ht_stats=dict()\n",
    "    for metric in metric_keys:\n",
    "        ht_stats[metric+\"_mean\"] = ht_results.cv_results_[\"mean_test_\"+metric][ht_results.best_index_]\n",
    "        ht_stats[metric+\"_std\"] = metric_std = ht_results.cv_results_[\"std_test_\"+metric][ht_results.best_index_]\n",
    "        if display:\n",
    "            print(\"test_\"+metric,ht_stats[metric+\"_mean\"],\"(\"+str(ht_stats[metric+\"_std\"])+\")\")\n",
    "    return ht_stats"
   ]
  },
  {
   "cell_type": "markdown",
   "id": "21a1aff9",
   "metadata": {},
   "source": [
    "## 2.5 Multilayer Perceptron (MLP)"
   ]
  },
  {
   "cell_type": "markdown",
   "id": "4b26ebb4",
   "metadata": {},
   "source": [
    "Utilizing *cross-validation* you will construct an MLP regression model using Scikit-learn's `MLPRegressor`:\n",
    "1. Using `GridSearchCV`, determine the best choice of hyperparameters out of the following possible values:\n",
    "- *Number of hidden layers*: [1, 2, 3]\n",
    "- *Number of neurons per layer*: [10, 20, 50]\n",
    "- *Learning rate*: [1e-5, 1e-4, 0.001, 0.01, 0.1, 0.5, 1, 5, 10, 50, 100]\n",
    "\n",
    "2. Report the time required to perform cross-validation via `GridSearchCV`. Report the mean and standard deviation of the performance metrics for the best performing model along with its associated hyperparameter. You may use the function `collate_ht_results` for this purpose.\n",
    "\n",
    " \n",
    "### Please Read!\n",
    "In addition to utilizing the same `GridSearchCV` parameters as in 2.5, the `MLPRegressor` function should have the following parameters set:\n",
    "- `max_iter` -  This controls the maximum number of rounds of backpropagation/gradient descent; set it to 10,000.\n",
    "- `early_stopping` - This will reserve a portion of the training data tha can be used to evaluate convergence progress in order to stop training early; set it to `True`."
   ]
  },
  {
   "cell_type": "markdown",
   "id": "d85f4f9a",
   "metadata": {},
   "source": [
    "## 2.6 Final Models"
   ]
  },
  {
   "cell_type": "markdown",
   "id": "b10b7dcb",
   "metadata": {},
   "source": [
    "1. Using the full training set (**training + validation**), train *two* linear regression models, one with and without PCA preprocessing, then apply them to the test set. For LASSO and MLP, you can utilize the best models found during cross-validation and just apply them to the test set.\n",
    "2. Create a bar chart of the three regression metrics for each model on the same plot.\n",
    "3. How do the models's performances compare? What do the metrics reveal about the dataset?"
   ]
  }
 ],
 "metadata": {
  "kernelspec": {
   "display_name": "Python 3 (ipykernel)",
   "language": "python",
   "name": "python3"
  },
  "language_info": {
   "codemirror_mode": {
    "name": "ipython",
    "version": 3
   },
   "file_extension": ".py",
   "mimetype": "text/x-python",
   "name": "python",
   "nbconvert_exporter": "python",
   "pygments_lexer": "ipython3",
   "version": "3.9.7"
  },
  "vscode": {
   "interpreter": {
    "hash": "b0fa6594d8f4cbf19f97940f81e996739fb7646882a419484c72d19e05852a7e"
   }
  }
 },
 "nbformat": 4,
 "nbformat_minor": 5
}
